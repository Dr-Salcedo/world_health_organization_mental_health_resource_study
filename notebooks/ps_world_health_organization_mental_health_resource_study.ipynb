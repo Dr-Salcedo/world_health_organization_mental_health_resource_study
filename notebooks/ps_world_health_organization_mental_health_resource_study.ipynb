{
 "cells": [
  {
   "cell_type": "code",
   "execution_count": 1,
   "metadata": {
    "ExecuteTime": {
     "end_time": "2019-06-06T12:30:46.286809Z",
     "start_time": "2019-06-06T12:30:46.284265Z"
    },
    "tags": [
     "hidecode"
    ]
   },
   "outputs": [],
   "source": [
    "# # DO NOT REMOVE THESE\n",
    "# %load_ext autoreload\n",
    "# %autoreload 1\n",
    "# %aimport src.base"
   ]
  },
  {
   "cell_type": "code",
   "execution_count": 3,
   "metadata": {
    "ExecuteTime": {
     "end_time": "2019-06-05T14:50:28.553169Z",
     "start_time": "2019-06-05T14:50:28.549692Z"
    }
   },
   "outputs": [],
   "source": [
    "# # DO NOT REMOVE This\n",
    "# %reload_ext autoreload"
   ]
  },
  {
   "cell_type": "code",
   "execution_count": 4,
   "metadata": {
    "ExecuteTime": {
     "end_time": "2019-06-05T14:50:29.007682Z",
     "start_time": "2019-06-05T14:50:29.003488Z"
    }
   },
   "outputs": [],
   "source": [
    "# ## DO NOT REMOVE\n",
    "# ## import local src module -\n",
    "# ## src in this project will contain all your local code\n",
    "# ## clean_data.py, model.py, visualize.py, custom.py\n",
    "\n",
    "# #import src.base with alias to avoid namespace clashes\n",
    "\n",
    "# from src import base as fis"
   ]
  },
  {
   "cell_type": "code",
   "execution_count": 5,
   "metadata": {
    "ExecuteTime": {
     "end_time": "2019-06-05T14:50:29.385318Z",
     "start_time": "2019-06-05T14:50:29.380199Z"
    },
    "scrolled": true
   },
   "outputs": [],
   "source": [
    "# fis.test_base()"
   ]
  },
  {
   "cell_type": "code",
   "execution_count": 3,
   "metadata": {
    "ExecuteTime": {
     "end_time": "2019-06-06T12:31:09.702333Z",
     "start_time": "2019-06-06T12:31:09.137526Z"
    }
   },
   "outputs": [],
   "source": [
    "import pandas as pd\n",
    "import numpy as np\n",
    "import sqlite3"
   ]
  },
  {
   "cell_type": "code",
   "execution_count": 4,
   "metadata": {
    "ExecuteTime": {
     "end_time": "2019-06-06T12:31:09.716841Z",
     "start_time": "2019-06-06T12:31:09.712442Z"
    }
   },
   "outputs": [],
   "source": [
    "conn=sqlite3.connect(\"/Users/buddy4732/datascience/World_Health_Organization_Mental_Health_Resource_Study/who_suicide.db\")\n",
    "c=conn.cursor()"
   ]
  },
  {
   "cell_type": "markdown",
   "metadata": {},
   "source": [
    "### Facilities"
   ]
  },
  {
   "cell_type": "code",
   "execution_count": 5,
   "metadata": {
    "ExecuteTime": {
     "end_time": "2019-06-06T12:31:09.966024Z",
     "start_time": "2019-06-06T12:31:09.960196Z"
    }
   },
   "outputs": [],
   "source": [
    "# conn=sqlite3.connect(\"/Users/buddy4732/datascience/World_Health_Organization_Mental_Health_Resource_Study/data/facilities.db\")\n",
    "# c=conn.cursor()"
   ]
  },
  {
   "cell_type": "code",
   "execution_count": 6,
   "metadata": {
    "ExecuteTime": {
     "end_time": "2019-06-06T12:31:10.429937Z",
     "start_time": "2019-06-06T12:31:10.146786Z"
    },
    "scrolled": false
   },
   "outputs": [
    {
     "data": {
      "text/html": [
       "<div>\n",
       "<style scoped>\n",
       "    .dataframe tbody tr th:only-of-type {\n",
       "        vertical-align: middle;\n",
       "    }\n",
       "\n",
       "    .dataframe tbody tr th {\n",
       "        vertical-align: top;\n",
       "    }\n",
       "\n",
       "    .dataframe thead th {\n",
       "        text-align: right;\n",
       "    }\n",
       "</style>\n",
       "<table border=\"1\" class=\"dataframe\">\n",
       "  <thead>\n",
       "    <tr style=\"text-align: right;\">\n",
       "      <th></th>\n",
       "      <th>Country</th>\n",
       "      <th>Year</th>\n",
       "      <th>Mental hospitals (per 100 000 population)</th>\n",
       "      <th>Mental health units in general hospitals (per 100 000 population)</th>\n",
       "      <th>Mental health outpatient facilities (per 100 000 population)</th>\n",
       "      <th>Mental health day treatment facilities (per 100 000 population)</th>\n",
       "      <th>Community residential facilities (per 100 000 population)</th>\n",
       "    </tr>\n",
       "  </thead>\n",
       "  <tbody>\n",
       "    <tr>\n",
       "      <th>0</th>\n",
       "      <td>Afghanistan</td>\n",
       "      <td>2016</td>\n",
       "      <td>0.003</td>\n",
       "      <td>0.012</td>\n",
       "      <td>0.006</td>\n",
       "      <td></td>\n",
       "      <td></td>\n",
       "    </tr>\n",
       "    <tr>\n",
       "      <th>1</th>\n",
       "      <td>Albania</td>\n",
       "      <td>2016</td>\n",
       "      <td>0.068</td>\n",
       "      <td>0.068</td>\n",
       "      <td>0.410</td>\n",
       "      <td></td>\n",
       "      <td>0.445</td>\n",
       "    </tr>\n",
       "    <tr>\n",
       "      <th>2</th>\n",
       "      <td>Algeria</td>\n",
       "      <td>2016</td>\n",
       "      <td>0.048</td>\n",
       "      <td>0.068</td>\n",
       "      <td>0.048</td>\n",
       "      <td></td>\n",
       "      <td></td>\n",
       "    </tr>\n",
       "    <tr>\n",
       "      <th>3</th>\n",
       "      <td>Angola</td>\n",
       "      <td>2016</td>\n",
       "      <td>0.011</td>\n",
       "      <td></td>\n",
       "      <td></td>\n",
       "      <td></td>\n",
       "      <td>0.014</td>\n",
       "    </tr>\n",
       "    <tr>\n",
       "      <th>4</th>\n",
       "      <td>Antigua and Barbuda</td>\n",
       "      <td>2016</td>\n",
       "      <td>1.001</td>\n",
       "      <td></td>\n",
       "      <td></td>\n",
       "      <td></td>\n",
       "      <td></td>\n",
       "    </tr>\n",
       "  </tbody>\n",
       "</table>\n",
       "</div>"
      ],
      "text/plain": [
       "               Country  Year Mental hospitals (per 100 000 population)  \\\n",
       "0          Afghanistan  2016                                     0.003   \n",
       "1              Albania  2016                                     0.068   \n",
       "2              Algeria  2016                                     0.048   \n",
       "3               Angola  2016                                     0.011   \n",
       "4  Antigua and Barbuda  2016                                     1.001   \n",
       "\n",
       "  Mental health units in general hospitals (per 100 000 population)  \\\n",
       "0                                              0.012                  \n",
       "1                                              0.068                  \n",
       "2                                              0.068                  \n",
       "3                                                                     \n",
       "4                                                                     \n",
       "\n",
       "  Mental health outpatient facilities (per 100 000 population)  \\\n",
       "0                                              0.006             \n",
       "1                                              0.410             \n",
       "2                                              0.048             \n",
       "3                                                                \n",
       "4                                                                \n",
       "\n",
       "  Mental health day treatment facilities (per 100 000 population)  \\\n",
       "0                                                                   \n",
       "1                                                                   \n",
       "2                                                                   \n",
       "3                                                                   \n",
       "4                                                                   \n",
       "\n",
       "  Community residential facilities (per 100 000 population)  \n",
       "0                                                            \n",
       "1                                              0.445         \n",
       "2                                                            \n",
       "3                                              0.014         \n",
       "4                                                            "
      ]
     },
     "execution_count": 6,
     "metadata": {},
     "output_type": "execute_result"
    }
   ],
   "source": [
    "df_facilities=pd.read_sql_query(\"\"\"\n",
    "SELECT * FROM facilities\n",
    "\n",
    ";\"\"\", con=conn)\n",
    "df_facilities.head()"
   ]
  },
  {
   "cell_type": "code",
   "execution_count": 7,
   "metadata": {
    "ExecuteTime": {
     "end_time": "2019-06-06T12:31:10.473240Z",
     "start_time": "2019-06-06T12:31:10.462064Z"
    }
   },
   "outputs": [],
   "source": [
    "df_facilities[\"Mental hospitals (per 100 000 population)\"]=pd.to_numeric(df_facilities[\"Mental hospitals (per 100 000 population)\"])\n",
    "df_facilities[\"Mental health units in general hospitals (per 100 000 population)\"]=pd.to_numeric(df_facilities[\"Mental health units in general hospitals (per 100 000 population)\"])\n",
    "df_facilities[\"Mental health outpatient facilities (per 100 000 population)\"]=pd.to_numeric(df_facilities[\"Mental health outpatient facilities (per 100 000 population)\"])\n",
    "df_facilities[\"Mental health day treatment facilities (per 100 000 population)\"]=pd.to_numeric(df_facilities[\"Mental health day treatment facilities (per 100 000 population)\"])\n",
    "df_facilities[\"Community residential facilities (per 100 000 population)\"]=pd.to_numeric(df_facilities[\"Community residential facilities (per 100 000 population)\"])"
   ]
  },
  {
   "cell_type": "code",
   "execution_count": 8,
   "metadata": {
    "ExecuteTime": {
     "end_time": "2019-06-06T12:31:10.552850Z",
     "start_time": "2019-06-06T12:31:10.539850Z"
    }
   },
   "outputs": [
    {
     "name": "stdout",
     "output_type": "stream",
     "text": [
      "<class 'pandas.core.frame.DataFrame'>\n",
      "RangeIndex: 163 entries, 0 to 162\n",
      "Data columns (total 7 columns):\n",
      "Country                                                              163 non-null object\n",
      "Year                                                                 163 non-null object\n",
      "Mental hospitals (per 100 000 population)                            131 non-null float64\n",
      "Mental health units in general hospitals (per 100 000 population)    138 non-null float64\n",
      "Mental health outpatient facilities (per 100 000 population)         139 non-null float64\n",
      "Mental health day treatment facilities (per 100 000 population)      74 non-null float64\n",
      "Community residential facilities (per 100 000 population)            65 non-null float64\n",
      "dtypes: float64(5), object(2)\n",
      "memory usage: 9.0+ KB\n"
     ]
    }
   ],
   "source": [
    "df_facilities.info()"
   ]
  },
  {
   "cell_type": "code",
   "execution_count": 9,
   "metadata": {
    "ExecuteTime": {
     "end_time": "2019-06-06T12:31:10.803656Z",
     "start_time": "2019-06-06T12:31:10.784920Z"
    },
    "scrolled": false
   },
   "outputs": [
    {
     "name": "stdout",
     "output_type": "stream",
     "text": [
      "[('suicide_rate',), ('facilities',), ('human_resources',)]\n"
     ]
    }
   ],
   "source": [
    "c.execute(\"SELECT name FROM sqlite_master WHERE type='table';\")\n",
    "print(c.fetchall())"
   ]
  },
  {
   "cell_type": "markdown",
   "metadata": {},
   "source": [
    "### Suicide Rate"
   ]
  },
  {
   "cell_type": "code",
   "execution_count": 10,
   "metadata": {
    "ExecuteTime": {
     "end_time": "2019-06-06T12:31:11.122471Z",
     "start_time": "2019-06-06T12:31:11.101056Z"
    },
    "scrolled": true
   },
   "outputs": [
    {
     "data": {
      "text/html": [
       "<div>\n",
       "<style scoped>\n",
       "    .dataframe tbody tr th:only-of-type {\n",
       "        vertical-align: middle;\n",
       "    }\n",
       "\n",
       "    .dataframe tbody tr th {\n",
       "        vertical-align: top;\n",
       "    }\n",
       "\n",
       "    .dataframe thead th {\n",
       "        text-align: right;\n",
       "    }\n",
       "</style>\n",
       "<table border=\"1\" class=\"dataframe\">\n",
       "  <thead>\n",
       "    <tr style=\"text-align: right;\">\n",
       "      <th></th>\n",
       "      <th>Country</th>\n",
       "      <th>Sex</th>\n",
       "      <th>15-29  years</th>\n",
       "      <th>30-49 years</th>\n",
       "    </tr>\n",
       "  </thead>\n",
       "  <tbody>\n",
       "    <tr>\n",
       "      <th>0</th>\n",
       "      <td>Afghanistan</td>\n",
       "      <td>Both sexes</td>\n",
       "      <td>8.4</td>\n",
       "      <td>8.2</td>\n",
       "    </tr>\n",
       "    <tr>\n",
       "      <th>1</th>\n",
       "      <td>Afghanistan</td>\n",
       "      <td>Male</td>\n",
       "      <td>13.3</td>\n",
       "      <td>13.3</td>\n",
       "    </tr>\n",
       "    <tr>\n",
       "      <th>2</th>\n",
       "      <td>Afghanistan</td>\n",
       "      <td>Female</td>\n",
       "      <td>3</td>\n",
       "      <td>2.5</td>\n",
       "    </tr>\n",
       "    <tr>\n",
       "      <th>3</th>\n",
       "      <td>Albania</td>\n",
       "      <td>Both sexes</td>\n",
       "      <td>6.9</td>\n",
       "      <td>7.5</td>\n",
       "    </tr>\n",
       "    <tr>\n",
       "      <th>4</th>\n",
       "      <td>Albania</td>\n",
       "      <td>Male</td>\n",
       "      <td>5.8</td>\n",
       "      <td>11.1</td>\n",
       "    </tr>\n",
       "  </tbody>\n",
       "</table>\n",
       "</div>"
      ],
      "text/plain": [
       "       Country         Sex 15-29  years 30-49 years\n",
       "0  Afghanistan  Both sexes          8.4         8.2\n",
       "1  Afghanistan        Male         13.3        13.3\n",
       "2  Afghanistan      Female            3         2.5\n",
       "3      Albania  Both sexes          6.9         7.5\n",
       "4      Albania        Male          5.8        11.1"
      ]
     },
     "execution_count": 10,
     "metadata": {},
     "output_type": "execute_result"
    }
   ],
   "source": [
    "# conn=sqlite3.connect(\"/Users/buddy4732/datascience/World_Health_Organization_Mental_Health_Resource_Study/data/suicide_rate.db\")\n",
    "# c=conn.cursor()\n",
    "df_suicide_rate=pd.read_sql_query(\"\"\"\n",
    "SELECT * FROM suicide_rate\n",
    "\n",
    ";\"\"\", con=conn)\n",
    "df_suicide_rate.head()"
   ]
  },
  {
   "cell_type": "code",
   "execution_count": 11,
   "metadata": {
    "ExecuteTime": {
     "end_time": "2019-06-06T12:31:11.316965Z",
     "start_time": "2019-06-06T12:31:11.308429Z"
    }
   },
   "outputs": [],
   "source": [
    "df_suicide_rate[\"15-29  years\"]=pd.to_numeric(df_suicide_rate[\"15-29  years\"])"
   ]
  },
  {
   "cell_type": "code",
   "execution_count": 12,
   "metadata": {
    "ExecuteTime": {
     "end_time": "2019-06-06T12:31:11.503086Z",
     "start_time": "2019-06-06T12:31:11.483810Z"
    }
   },
   "outputs": [
    {
     "data": {
      "text/html": [
       "<div>\n",
       "<style scoped>\n",
       "    .dataframe tbody tr th:only-of-type {\n",
       "        vertical-align: middle;\n",
       "    }\n",
       "\n",
       "    .dataframe tbody tr th {\n",
       "        vertical-align: top;\n",
       "    }\n",
       "\n",
       "    .dataframe thead th {\n",
       "        text-align: right;\n",
       "    }\n",
       "</style>\n",
       "<table border=\"1\" class=\"dataframe\">\n",
       "  <thead>\n",
       "    <tr style=\"text-align: right;\">\n",
       "      <th></th>\n",
       "      <th>Country</th>\n",
       "      <th>Sex</th>\n",
       "      <th>15-29  years</th>\n",
       "      <th>30-49 years</th>\n",
       "    </tr>\n",
       "  </thead>\n",
       "  <tbody>\n",
       "    <tr>\n",
       "      <th>0</th>\n",
       "      <td>Afghanistan</td>\n",
       "      <td>Male</td>\n",
       "      <td>13.3</td>\n",
       "      <td>13.3</td>\n",
       "    </tr>\n",
       "    <tr>\n",
       "      <th>1</th>\n",
       "      <td>Albania</td>\n",
       "      <td>Male</td>\n",
       "      <td>5.8</td>\n",
       "      <td>11.1</td>\n",
       "    </tr>\n",
       "    <tr>\n",
       "      <th>2</th>\n",
       "      <td>Algeria</td>\n",
       "      <td>Male</td>\n",
       "      <td>5.2</td>\n",
       "      <td>7.5</td>\n",
       "    </tr>\n",
       "    <tr>\n",
       "      <th>3</th>\n",
       "      <td>Angola</td>\n",
       "      <td>Male</td>\n",
       "      <td>9</td>\n",
       "      <td>9.3</td>\n",
       "    </tr>\n",
       "    <tr>\n",
       "      <th>4</th>\n",
       "      <td>Antigua and Barbuda</td>\n",
       "      <td>Male</td>\n",
       "      <td>0</td>\n",
       "      <td>0</td>\n",
       "    </tr>\n",
       "  </tbody>\n",
       "</table>\n",
       "</div>"
      ],
      "text/plain": [
       "               Country   Sex 15-29  years 30-49 years\n",
       "0          Afghanistan  Male         13.3        13.3\n",
       "1              Albania  Male          5.8        11.1\n",
       "2              Algeria  Male          5.2         7.5\n",
       "3               Angola  Male            9         9.3\n",
       "4  Antigua and Barbuda  Male            0           0"
      ]
     },
     "execution_count": 12,
     "metadata": {},
     "output_type": "execute_result"
    }
   ],
   "source": [
    "df_suicide_rate_male=pd.read_sql_query(\"\"\"\n",
    "SELECT * FROM suicide_rate WHERE Sex==\"Male\"\n",
    ";\"\"\", con=conn)\n",
    "df_suicide_rate_male.head()\n"
   ]
  },
  {
   "cell_type": "code",
   "execution_count": 13,
   "metadata": {
    "ExecuteTime": {
     "end_time": "2019-06-06T12:31:12.270541Z",
     "start_time": "2019-06-06T12:31:12.254777Z"
    }
   },
   "outputs": [
    {
     "data": {
      "text/html": [
       "<div>\n",
       "<style scoped>\n",
       "    .dataframe tbody tr th:only-of-type {\n",
       "        vertical-align: middle;\n",
       "    }\n",
       "\n",
       "    .dataframe tbody tr th {\n",
       "        vertical-align: top;\n",
       "    }\n",
       "\n",
       "    .dataframe thead th {\n",
       "        text-align: right;\n",
       "    }\n",
       "</style>\n",
       "<table border=\"1\" class=\"dataframe\">\n",
       "  <thead>\n",
       "    <tr style=\"text-align: right;\">\n",
       "      <th></th>\n",
       "      <th>Country</th>\n",
       "      <th>Sex</th>\n",
       "      <th>15-29  years</th>\n",
       "      <th>30-49 years</th>\n",
       "    </tr>\n",
       "  </thead>\n",
       "  <tbody>\n",
       "    <tr>\n",
       "      <th>0</th>\n",
       "      <td>Afghanistan</td>\n",
       "      <td>Female</td>\n",
       "      <td>3</td>\n",
       "      <td>2.5</td>\n",
       "    </tr>\n",
       "    <tr>\n",
       "      <th>1</th>\n",
       "      <td>Albania</td>\n",
       "      <td>Female</td>\n",
       "      <td>8.1</td>\n",
       "      <td>4.2</td>\n",
       "    </tr>\n",
       "    <tr>\n",
       "      <th>2</th>\n",
       "      <td>Algeria</td>\n",
       "      <td>Female</td>\n",
       "      <td>2</td>\n",
       "      <td>2.5</td>\n",
       "    </tr>\n",
       "    <tr>\n",
       "      <th>3</th>\n",
       "      <td>Angola</td>\n",
       "      <td>Female</td>\n",
       "      <td>2.8</td>\n",
       "      <td>2.9</td>\n",
       "    </tr>\n",
       "    <tr>\n",
       "      <th>4</th>\n",
       "      <td>Antigua and Barbuda</td>\n",
       "      <td>Female</td>\n",
       "      <td>0</td>\n",
       "      <td>0</td>\n",
       "    </tr>\n",
       "  </tbody>\n",
       "</table>\n",
       "</div>"
      ],
      "text/plain": [
       "               Country     Sex 15-29  years 30-49 years\n",
       "0          Afghanistan  Female            3         2.5\n",
       "1              Albania  Female          8.1         4.2\n",
       "2              Algeria  Female            2         2.5\n",
       "3               Angola  Female          2.8         2.9\n",
       "4  Antigua and Barbuda  Female            0           0"
      ]
     },
     "execution_count": 13,
     "metadata": {},
     "output_type": "execute_result"
    }
   ],
   "source": [
    "df_suicide_rate_female=pd.read_sql_query(\"\"\"\n",
    "SELECT * FROM suicide_rate WHERE Sex==\"Female\"\n",
    ";\"\"\", con=conn)\n",
    "df_suicide_rate_female.head()"
   ]
  },
  {
   "cell_type": "code",
   "execution_count": 14,
   "metadata": {
    "ExecuteTime": {
     "end_time": "2019-06-06T12:31:12.829948Z",
     "start_time": "2019-06-06T12:31:12.819930Z"
    },
    "scrolled": true
   },
   "outputs": [],
   "source": [
    "df_suicide_rate_btsx=pd.read_sql_query(\"\"\"\n",
    "SELECT * FROM suicide_rate WHERE Sex==\"Both sexes\"\n",
    ";\"\"\", con=conn)"
   ]
  },
  {
   "cell_type": "code",
   "execution_count": 15,
   "metadata": {
    "ExecuteTime": {
     "end_time": "2019-06-06T12:31:13.022015Z",
     "start_time": "2019-06-06T12:31:13.014914Z"
    }
   },
   "outputs": [],
   "source": [
    "df_suicide_rate_btsx[\"15-29  years\"]=pd.to_numeric(df_suicide_rate_btsx[\"15-29  years\"])"
   ]
  },
  {
   "cell_type": "code",
   "execution_count": null,
   "metadata": {},
   "outputs": [],
   "source": []
  },
  {
   "cell_type": "markdown",
   "metadata": {
    "ExecuteTime": {
     "end_time": "2019-06-05T16:42:28.303324Z",
     "start_time": "2019-06-05T16:42:28.297575Z"
    }
   },
   "source": [
    "### Human Resources"
   ]
  },
  {
   "cell_type": "code",
   "execution_count": 16,
   "metadata": {
    "ExecuteTime": {
     "end_time": "2019-06-06T12:31:13.584338Z",
     "start_time": "2019-06-06T12:31:13.564249Z"
    },
    "scrolled": true
   },
   "outputs": [
    {
     "data": {
      "text/html": [
       "<div>\n",
       "<style scoped>\n",
       "    .dataframe tbody tr th:only-of-type {\n",
       "        vertical-align: middle;\n",
       "    }\n",
       "\n",
       "    .dataframe tbody tr th {\n",
       "        vertical-align: top;\n",
       "    }\n",
       "\n",
       "    .dataframe thead th {\n",
       "        text-align: right;\n",
       "    }\n",
       "</style>\n",
       "<table border=\"1\" class=\"dataframe\">\n",
       "  <thead>\n",
       "    <tr style=\"text-align: right;\">\n",
       "      <th></th>\n",
       "      <th>Country</th>\n",
       "      <th>Year</th>\n",
       "      <th>Psychiatrists working in mental health sector (per 100 000 population)</th>\n",
       "      <th>Nurses working in mental health sector (per 100 000 population)</th>\n",
       "      <th>Social workers working in mental health sector (per 100 000 population)</th>\n",
       "      <th>Psychologists working in mental health sector (per 100 000 population)</th>\n",
       "    </tr>\n",
       "  </thead>\n",
       "  <tbody>\n",
       "    <tr>\n",
       "      <th>0</th>\n",
       "      <td>Afghanistan</td>\n",
       "      <td>2016</td>\n",
       "      <td>0.231</td>\n",
       "      <td>0.098</td>\n",
       "      <td></td>\n",
       "      <td>0.296</td>\n",
       "    </tr>\n",
       "    <tr>\n",
       "      <th>1</th>\n",
       "      <td>Albania</td>\n",
       "      <td>2016</td>\n",
       "      <td>1.471</td>\n",
       "      <td>6.876</td>\n",
       "      <td>1.060</td>\n",
       "      <td>1.231</td>\n",
       "    </tr>\n",
       "    <tr>\n",
       "      <th>2</th>\n",
       "      <td>Angola</td>\n",
       "      <td>2016</td>\n",
       "      <td>0.057</td>\n",
       "      <td>0.660</td>\n",
       "      <td>0.022</td>\n",
       "      <td>0.179</td>\n",
       "    </tr>\n",
       "    <tr>\n",
       "      <th>3</th>\n",
       "      <td>Antigua and Barbuda</td>\n",
       "      <td>2016</td>\n",
       "      <td>1.001</td>\n",
       "      <td>7.005</td>\n",
       "      <td>4.003</td>\n",
       "      <td></td>\n",
       "    </tr>\n",
       "    <tr>\n",
       "      <th>4</th>\n",
       "      <td>Argentina</td>\n",
       "      <td>2016</td>\n",
       "      <td>21.705</td>\n",
       "      <td></td>\n",
       "      <td></td>\n",
       "      <td>222.572</td>\n",
       "    </tr>\n",
       "  </tbody>\n",
       "</table>\n",
       "</div>"
      ],
      "text/plain": [
       "               Country  Year  \\\n",
       "0          Afghanistan  2016   \n",
       "1              Albania  2016   \n",
       "2               Angola  2016   \n",
       "3  Antigua and Barbuda  2016   \n",
       "4            Argentina  2016   \n",
       "\n",
       "  Psychiatrists working in mental health sector (per 100 000 population)  \\\n",
       "0                                              0.231                       \n",
       "1                                              1.471                       \n",
       "2                                              0.057                       \n",
       "3                                              1.001                       \n",
       "4                                             21.705                       \n",
       "\n",
       "  Nurses working in mental health sector (per 100 000 population)  \\\n",
       "0                                              0.098                \n",
       "1                                              6.876                \n",
       "2                                              0.660                \n",
       "3                                              7.005                \n",
       "4                                                                   \n",
       "\n",
       "  Social workers working in mental health sector (per 100 000 population)  \\\n",
       "0                                                                           \n",
       "1                                              1.060                        \n",
       "2                                              0.022                        \n",
       "3                                              4.003                        \n",
       "4                                                                           \n",
       "\n",
       "  Psychologists working in mental health sector (per 100 000 population)  \n",
       "0                                              0.296                      \n",
       "1                                              1.231                      \n",
       "2                                              0.179                      \n",
       "3                                                                         \n",
       "4                                            222.572                      "
      ]
     },
     "execution_count": 16,
     "metadata": {},
     "output_type": "execute_result"
    }
   ],
   "source": [
    "\n",
    "df_human_resources=pd.read_sql_query(\"\"\"\n",
    "SELECT * FROM human_resources\n",
    "\n",
    ";\"\"\", con=conn)\n",
    "df_human_resources.head()"
   ]
  },
  {
   "cell_type": "code",
   "execution_count": 17,
   "metadata": {
    "ExecuteTime": {
     "end_time": "2019-06-06T12:31:13.814792Z",
     "start_time": "2019-06-06T12:31:13.805237Z"
    }
   },
   "outputs": [],
   "source": [
    "df_human_resources[\"Psychiatrists working in mental health sector (per 100 000 population)\"]=pd.to_numeric(df_human_resources[\"Psychiatrists working in mental health sector (per 100 000 population)\"])\n",
    "\n",
    "df_human_resources[\"Nurses working in mental health sector (per 100 000 population)\"]=pd.to_numeric(df_human_resources[\"Nurses working in mental health sector (per 100 000 population)\"])\n",
    "\n",
    "df_human_resources[\"Social workers working in mental health sector (per 100 000 population)\"]=pd.to_numeric(df_human_resources[\"Social workers working in mental health sector (per 100 000 population)\"])\n",
    "\n",
    "df_human_resources[\"Psychologists working in mental health sector (per 100 000 population)\"]=pd.to_numeric(df_human_resources[\"Psychologists working in mental health sector (per 100 000 population)\"])\n"
   ]
  },
  {
   "cell_type": "code",
   "execution_count": 18,
   "metadata": {
    "ExecuteTime": {
     "end_time": "2019-06-06T12:31:14.022937Z",
     "start_time": "2019-06-06T12:31:14.016036Z"
    }
   },
   "outputs": [],
   "source": [
    "df_human_resources[\"Psychiatrists working in mental health sector (per 100 000 population)\"].fillna(value=df_human_resources[\"Psychiatrists working in mental health sector (per 100 000 population)\"].mean(), inplace=True)"
   ]
  },
  {
   "cell_type": "code",
   "execution_count": 19,
   "metadata": {
    "ExecuteTime": {
     "end_time": "2019-06-06T12:31:14.203810Z",
     "start_time": "2019-06-06T12:31:14.198412Z"
    }
   },
   "outputs": [],
   "source": [
    "df_human_resources[\"Nurses working in mental health sector (per 100 000 population)\"].fillna(value=df_human_resources[\"Nurses working in mental health sector (per 100 000 population)\"].mean(), inplace=True)"
   ]
  },
  {
   "cell_type": "code",
   "execution_count": 20,
   "metadata": {
    "ExecuteTime": {
     "end_time": "2019-06-06T12:31:14.382111Z",
     "start_time": "2019-06-06T12:31:14.375311Z"
    }
   },
   "outputs": [],
   "source": [
    "df_human_resources[\"Social workers working in mental health sector (per 100 000 population)\"].fillna(value=df_human_resources[\"Social workers working in mental health sector (per 100 000 population)\"].mean(), inplace=True)"
   ]
  },
  {
   "cell_type": "code",
   "execution_count": 21,
   "metadata": {
    "ExecuteTime": {
     "end_time": "2019-06-06T12:31:14.586357Z",
     "start_time": "2019-06-06T12:31:14.579598Z"
    }
   },
   "outputs": [],
   "source": [
    "df_human_resources[\"Psychologists working in mental health sector (per 100 000 population)\"].fillna(value=df_human_resources[\"Psychologists working in mental health sector (per 100 000 population)\"].mean(), inplace=True)"
   ]
  },
  {
   "cell_type": "code",
   "execution_count": 22,
   "metadata": {
    "ExecuteTime": {
     "end_time": "2019-06-06T12:31:14.845583Z",
     "start_time": "2019-06-06T12:31:14.819180Z"
    },
    "scrolled": true
   },
   "outputs": [
    {
     "data": {
      "text/html": [
       "<div>\n",
       "<style scoped>\n",
       "    .dataframe tbody tr th:only-of-type {\n",
       "        vertical-align: middle;\n",
       "    }\n",
       "\n",
       "    .dataframe tbody tr th {\n",
       "        vertical-align: top;\n",
       "    }\n",
       "\n",
       "    .dataframe thead th {\n",
       "        text-align: right;\n",
       "    }\n",
       "</style>\n",
       "<table border=\"1\" class=\"dataframe\">\n",
       "  <thead>\n",
       "    <tr style=\"text-align: right;\">\n",
       "      <th></th>\n",
       "      <th>Country</th>\n",
       "      <th>Year</th>\n",
       "      <th>Psychiatrists working in mental health sector (per 100 000 population)</th>\n",
       "      <th>Nurses working in mental health sector (per 100 000 population)</th>\n",
       "      <th>Social workers working in mental health sector (per 100 000 population)</th>\n",
       "      <th>Psychologists working in mental health sector (per 100 000 population)</th>\n",
       "    </tr>\n",
       "  </thead>\n",
       "  <tbody>\n",
       "    <tr>\n",
       "      <th>0</th>\n",
       "      <td>Afghanistan</td>\n",
       "      <td>2016</td>\n",
       "      <td>0.231</td>\n",
       "      <td>0.098000</td>\n",
       "      <td>5.18063</td>\n",
       "      <td>0.296000</td>\n",
       "    </tr>\n",
       "    <tr>\n",
       "      <th>1</th>\n",
       "      <td>Albania</td>\n",
       "      <td>2016</td>\n",
       "      <td>1.471</td>\n",
       "      <td>6.876000</td>\n",
       "      <td>1.06000</td>\n",
       "      <td>1.231000</td>\n",
       "    </tr>\n",
       "    <tr>\n",
       "      <th>2</th>\n",
       "      <td>Angola</td>\n",
       "      <td>2016</td>\n",
       "      <td>0.057</td>\n",
       "      <td>0.660000</td>\n",
       "      <td>0.02200</td>\n",
       "      <td>0.179000</td>\n",
       "    </tr>\n",
       "    <tr>\n",
       "      <th>3</th>\n",
       "      <td>Antigua and Barbuda</td>\n",
       "      <td>2016</td>\n",
       "      <td>1.001</td>\n",
       "      <td>7.005000</td>\n",
       "      <td>4.00300</td>\n",
       "      <td>12.454208</td>\n",
       "    </tr>\n",
       "    <tr>\n",
       "      <th>4</th>\n",
       "      <td>Argentina</td>\n",
       "      <td>2016</td>\n",
       "      <td>21.705</td>\n",
       "      <td>15.356244</td>\n",
       "      <td>5.18063</td>\n",
       "      <td>222.572000</td>\n",
       "    </tr>\n",
       "    <tr>\n",
       "      <th>5</th>\n",
       "      <td>Armenia</td>\n",
       "      <td>2016</td>\n",
       "      <td>3.840</td>\n",
       "      <td>11.245000</td>\n",
       "      <td>0.27400</td>\n",
       "      <td>0.788000</td>\n",
       "    </tr>\n",
       "    <tr>\n",
       "      <th>6</th>\n",
       "      <td>Australia</td>\n",
       "      <td>2015</td>\n",
       "      <td>13.525</td>\n",
       "      <td>90.582000</td>\n",
       "      <td>5.18063</td>\n",
       "      <td>103.036000</td>\n",
       "    </tr>\n",
       "    <tr>\n",
       "      <th>7</th>\n",
       "      <td>Azerbaijan</td>\n",
       "      <td>2016</td>\n",
       "      <td>3.452</td>\n",
       "      <td>6.717000</td>\n",
       "      <td>0.11400</td>\n",
       "      <td>1.165000</td>\n",
       "    </tr>\n",
       "    <tr>\n",
       "      <th>8</th>\n",
       "      <td>Bahrain</td>\n",
       "      <td>2017</td>\n",
       "      <td>5.467</td>\n",
       "      <td>27.918000</td>\n",
       "      <td>1.45800</td>\n",
       "      <td>1.239000</td>\n",
       "    </tr>\n",
       "    <tr>\n",
       "      <th>9</th>\n",
       "      <td>Bangladesh</td>\n",
       "      <td>2016</td>\n",
       "      <td>0.130</td>\n",
       "      <td>0.873000</td>\n",
       "      <td>5.18063</td>\n",
       "      <td>0.124000</td>\n",
       "    </tr>\n",
       "  </tbody>\n",
       "</table>\n",
       "</div>"
      ],
      "text/plain": [
       "               Country  Year  \\\n",
       "0          Afghanistan  2016   \n",
       "1              Albania  2016   \n",
       "2               Angola  2016   \n",
       "3  Antigua and Barbuda  2016   \n",
       "4            Argentina  2016   \n",
       "5              Armenia  2016   \n",
       "6            Australia  2015   \n",
       "7           Azerbaijan  2016   \n",
       "8              Bahrain  2017   \n",
       "9           Bangladesh  2016   \n",
       "\n",
       "   Psychiatrists working in mental health sector (per 100 000 population)  \\\n",
       "0                                              0.231                        \n",
       "1                                              1.471                        \n",
       "2                                              0.057                        \n",
       "3                                              1.001                        \n",
       "4                                             21.705                        \n",
       "5                                              3.840                        \n",
       "6                                             13.525                        \n",
       "7                                              3.452                        \n",
       "8                                              5.467                        \n",
       "9                                              0.130                        \n",
       "\n",
       "   Nurses working in mental health sector (per 100 000 population)  \\\n",
       "0                                           0.098000                 \n",
       "1                                           6.876000                 \n",
       "2                                           0.660000                 \n",
       "3                                           7.005000                 \n",
       "4                                          15.356244                 \n",
       "5                                          11.245000                 \n",
       "6                                          90.582000                 \n",
       "7                                           6.717000                 \n",
       "8                                          27.918000                 \n",
       "9                                           0.873000                 \n",
       "\n",
       "   Social workers working in mental health sector (per 100 000 population)  \\\n",
       "0                                            5.18063                         \n",
       "1                                            1.06000                         \n",
       "2                                            0.02200                         \n",
       "3                                            4.00300                         \n",
       "4                                            5.18063                         \n",
       "5                                            0.27400                         \n",
       "6                                            5.18063                         \n",
       "7                                            0.11400                         \n",
       "8                                            1.45800                         \n",
       "9                                            5.18063                         \n",
       "\n",
       "   Psychologists working in mental health sector (per 100 000 population)  \n",
       "0                                           0.296000                       \n",
       "1                                           1.231000                       \n",
       "2                                           0.179000                       \n",
       "3                                          12.454208                       \n",
       "4                                         222.572000                       \n",
       "5                                           0.788000                       \n",
       "6                                         103.036000                       \n",
       "7                                           1.165000                       \n",
       "8                                           1.239000                       \n",
       "9                                           0.124000                       "
      ]
     },
     "execution_count": 22,
     "metadata": {},
     "output_type": "execute_result"
    }
   ],
   "source": [
    "df_human_resources.head(10)"
   ]
  },
  {
   "cell_type": "code",
   "execution_count": 23,
   "metadata": {
    "ExecuteTime": {
     "end_time": "2019-06-06T12:31:15.048982Z",
     "start_time": "2019-06-06T12:31:15.027087Z"
    }
   },
   "outputs": [],
   "source": [
    "df_human_resources[\"Resource Sum\"]=df_human_resources[\"Psychiatrists working in mental health sector (per 100 000 population)\"] + df_human_resources[\"Nurses working in mental health sector (per 100 000 population)\"] + df_human_resources[\"Social workers working in mental health sector (per 100 000 population)\"] + df_human_resources[\"Psychologists working in mental health sector (per 100 000 population)\"]"
   ]
  },
  {
   "cell_type": "code",
   "execution_count": 24,
   "metadata": {
    "ExecuteTime": {
     "end_time": "2019-06-06T12:31:15.220819Z",
     "start_time": "2019-06-06T12:31:15.192013Z"
    },
    "scrolled": true
   },
   "outputs": [
    {
     "data": {
      "text/html": [
       "<div>\n",
       "<style scoped>\n",
       "    .dataframe tbody tr th:only-of-type {\n",
       "        vertical-align: middle;\n",
       "    }\n",
       "\n",
       "    .dataframe tbody tr th {\n",
       "        vertical-align: top;\n",
       "    }\n",
       "\n",
       "    .dataframe thead th {\n",
       "        text-align: right;\n",
       "    }\n",
       "</style>\n",
       "<table border=\"1\" class=\"dataframe\">\n",
       "  <thead>\n",
       "    <tr style=\"text-align: right;\">\n",
       "      <th></th>\n",
       "      <th>Country</th>\n",
       "      <th>Year</th>\n",
       "      <th>Psychiatrists working in mental health sector (per 100 000 population)</th>\n",
       "      <th>Nurses working in mental health sector (per 100 000 population)</th>\n",
       "      <th>Social workers working in mental health sector (per 100 000 population)</th>\n",
       "      <th>Psychologists working in mental health sector (per 100 000 population)</th>\n",
       "      <th>Resource Sum</th>\n",
       "    </tr>\n",
       "  </thead>\n",
       "  <tbody>\n",
       "    <tr>\n",
       "      <th>0</th>\n",
       "      <td>Afghanistan</td>\n",
       "      <td>2016</td>\n",
       "      <td>0.231</td>\n",
       "      <td>0.098000</td>\n",
       "      <td>5.18063</td>\n",
       "      <td>0.296000</td>\n",
       "      <td>5.805630</td>\n",
       "    </tr>\n",
       "    <tr>\n",
       "      <th>1</th>\n",
       "      <td>Albania</td>\n",
       "      <td>2016</td>\n",
       "      <td>1.471</td>\n",
       "      <td>6.876000</td>\n",
       "      <td>1.06000</td>\n",
       "      <td>1.231000</td>\n",
       "      <td>10.638000</td>\n",
       "    </tr>\n",
       "    <tr>\n",
       "      <th>2</th>\n",
       "      <td>Angola</td>\n",
       "      <td>2016</td>\n",
       "      <td>0.057</td>\n",
       "      <td>0.660000</td>\n",
       "      <td>0.02200</td>\n",
       "      <td>0.179000</td>\n",
       "      <td>0.918000</td>\n",
       "    </tr>\n",
       "    <tr>\n",
       "      <th>3</th>\n",
       "      <td>Antigua and Barbuda</td>\n",
       "      <td>2016</td>\n",
       "      <td>1.001</td>\n",
       "      <td>7.005000</td>\n",
       "      <td>4.00300</td>\n",
       "      <td>12.454208</td>\n",
       "      <td>24.463208</td>\n",
       "    </tr>\n",
       "    <tr>\n",
       "      <th>4</th>\n",
       "      <td>Argentina</td>\n",
       "      <td>2016</td>\n",
       "      <td>21.705</td>\n",
       "      <td>15.356244</td>\n",
       "      <td>5.18063</td>\n",
       "      <td>222.572000</td>\n",
       "      <td>264.813874</td>\n",
       "    </tr>\n",
       "  </tbody>\n",
       "</table>\n",
       "</div>"
      ],
      "text/plain": [
       "               Country  Year  \\\n",
       "0          Afghanistan  2016   \n",
       "1              Albania  2016   \n",
       "2               Angola  2016   \n",
       "3  Antigua and Barbuda  2016   \n",
       "4            Argentina  2016   \n",
       "\n",
       "   Psychiatrists working in mental health sector (per 100 000 population)  \\\n",
       "0                                              0.231                        \n",
       "1                                              1.471                        \n",
       "2                                              0.057                        \n",
       "3                                              1.001                        \n",
       "4                                             21.705                        \n",
       "\n",
       "   Nurses working in mental health sector (per 100 000 population)  \\\n",
       "0                                           0.098000                 \n",
       "1                                           6.876000                 \n",
       "2                                           0.660000                 \n",
       "3                                           7.005000                 \n",
       "4                                          15.356244                 \n",
       "\n",
       "   Social workers working in mental health sector (per 100 000 population)  \\\n",
       "0                                            5.18063                         \n",
       "1                                            1.06000                         \n",
       "2                                            0.02200                         \n",
       "3                                            4.00300                         \n",
       "4                                            5.18063                         \n",
       "\n",
       "   Psychologists working in mental health sector (per 100 000 population)  \\\n",
       "0                                           0.296000                        \n",
       "1                                           1.231000                        \n",
       "2                                           0.179000                        \n",
       "3                                          12.454208                        \n",
       "4                                         222.572000                        \n",
       "\n",
       "   Resource Sum  \n",
       "0      5.805630  \n",
       "1     10.638000  \n",
       "2      0.918000  \n",
       "3     24.463208  \n",
       "4    264.813874  "
      ]
     },
     "execution_count": 24,
     "metadata": {},
     "output_type": "execute_result"
    }
   ],
   "source": [
    "df_human_resources.head()"
   ]
  },
  {
   "cell_type": "code",
   "execution_count": 25,
   "metadata": {
    "ExecuteTime": {
     "end_time": "2019-06-06T12:31:15.505661Z",
     "start_time": "2019-06-06T12:31:15.493519Z"
    }
   },
   "outputs": [
    {
     "data": {
      "text/plain": [
       "38.12604133193111"
      ]
     },
     "execution_count": 25,
     "metadata": {},
     "output_type": "execute_result"
    }
   ],
   "source": [
    "df_human_resources[\"Resource Sum\"].mean()"
   ]
  },
  {
   "cell_type": "code",
   "execution_count": 26,
   "metadata": {
    "ExecuteTime": {
     "end_time": "2019-06-06T12:31:15.754049Z",
     "start_time": "2019-06-06T12:31:15.743578Z"
    }
   },
   "outputs": [],
   "source": [
    "df_above_mean=df_human_resources.loc[df_human_resources[\"Resource Sum\"]>38.126]"
   ]
  },
  {
   "cell_type": "code",
   "execution_count": 27,
   "metadata": {
    "ExecuteTime": {
     "end_time": "2019-06-06T12:31:15.982093Z",
     "start_time": "2019-06-06T12:31:15.973190Z"
    }
   },
   "outputs": [],
   "source": [
    "above_mean_listo=list(df_above_mean[\"Country\"])\n",
    "df_suicides_above_mean_countries=df_suicide_rate_btsx.loc[df_suicide_rate_btsx[\"Country\"].isin(above_mean_listo)]"
   ]
  },
  {
   "cell_type": "code",
   "execution_count": 28,
   "metadata": {
    "ExecuteTime": {
     "end_time": "2019-06-06T12:31:16.184003Z",
     "start_time": "2019-06-06T12:31:16.177223Z"
    },
    "scrolled": false
   },
   "outputs": [
    {
     "data": {
      "text/plain": [
       "['Argentina',\n",
       " 'Australia',\n",
       " 'Barbados',\n",
       " 'Belarus',\n",
       " 'Belgium',\n",
       " 'Brazil',\n",
       " 'Canada',\n",
       " 'Cook Islands',\n",
       " 'Costa Rica',\n",
       " 'Croatia',\n",
       " 'Cuba',\n",
       " 'Cyprus',\n",
       " 'Czechia',\n",
       " 'Estonia',\n",
       " 'Finland',\n",
       " 'France',\n",
       " 'Germany',\n",
       " 'Guatemala',\n",
       " 'Hungary',\n",
       " 'Israel',\n",
       " 'Japan',\n",
       " 'Latvia',\n",
       " 'Lithuania',\n",
       " 'Luxembourg',\n",
       " 'Monaco',\n",
       " 'Montenegro',\n",
       " 'Netherlands',\n",
       " 'New Zealand',\n",
       " 'Norway',\n",
       " 'Poland',\n",
       " 'Saint Kitts and Nevis',\n",
       " 'Saint Lucia',\n",
       " 'Slovenia',\n",
       " 'Sweden',\n",
       " 'Switzerland',\n",
       " 'Turkey',\n",
       " 'Ukraine',\n",
       " 'United States of America',\n",
       " 'Uruguay']"
      ]
     },
     "execution_count": 28,
     "metadata": {},
     "output_type": "execute_result"
    }
   ],
   "source": [
    "above_mean_listo"
   ]
  },
  {
   "cell_type": "code",
   "execution_count": 29,
   "metadata": {
    "ExecuteTime": {
     "end_time": "2019-06-06T12:31:16.410017Z",
     "start_time": "2019-06-06T12:31:16.382766Z"
    }
   },
   "outputs": [
    {
     "data": {
      "text/html": [
       "<div>\n",
       "<style scoped>\n",
       "    .dataframe tbody tr th:only-of-type {\n",
       "        vertical-align: middle;\n",
       "    }\n",
       "\n",
       "    .dataframe tbody tr th {\n",
       "        vertical-align: top;\n",
       "    }\n",
       "\n",
       "    .dataframe thead th {\n",
       "        text-align: right;\n",
       "    }\n",
       "</style>\n",
       "<table border=\"1\" class=\"dataframe\">\n",
       "  <thead>\n",
       "    <tr style=\"text-align: right;\">\n",
       "      <th></th>\n",
       "      <th>Country</th>\n",
       "      <th>Sex</th>\n",
       "      <th>15-29  years</th>\n",
       "      <th>30-49 years</th>\n",
       "    </tr>\n",
       "  </thead>\n",
       "  <tbody>\n",
       "    <tr>\n",
       "      <th>5</th>\n",
       "      <td>Argentina</td>\n",
       "      <td>Both sexes</td>\n",
       "      <td>15.3</td>\n",
       "      <td>10.3</td>\n",
       "    </tr>\n",
       "    <tr>\n",
       "      <th>7</th>\n",
       "      <td>Australia</td>\n",
       "      <td>Both sexes</td>\n",
       "      <td>12.7</td>\n",
       "      <td>18</td>\n",
       "    </tr>\n",
       "    <tr>\n",
       "      <th>13</th>\n",
       "      <td>Barbados</td>\n",
       "      <td>Both sexes</td>\n",
       "      <td>0.0</td>\n",
       "      <td>0.4</td>\n",
       "    </tr>\n",
       "    <tr>\n",
       "      <th>14</th>\n",
       "      <td>Belarus</td>\n",
       "      <td>Both sexes</td>\n",
       "      <td>16.2</td>\n",
       "      <td>35</td>\n",
       "    </tr>\n",
       "    <tr>\n",
       "      <th>15</th>\n",
       "      <td>Belgium</td>\n",
       "      <td>Both sexes</td>\n",
       "      <td>11.2</td>\n",
       "      <td>23.8</td>\n",
       "    </tr>\n",
       "    <tr>\n",
       "      <th>22</th>\n",
       "      <td>Brazil</td>\n",
       "      <td>Both sexes</td>\n",
       "      <td>6.1</td>\n",
       "      <td>8.3</td>\n",
       "    </tr>\n",
       "    <tr>\n",
       "      <th>30</th>\n",
       "      <td>Canada</td>\n",
       "      <td>Both sexes</td>\n",
       "      <td>10.8</td>\n",
       "      <td>14.8</td>\n",
       "    </tr>\n",
       "    <tr>\n",
       "      <th>38</th>\n",
       "      <td>Costa Rica</td>\n",
       "      <td>Both sexes</td>\n",
       "      <td>9.6</td>\n",
       "      <td>10.2</td>\n",
       "    </tr>\n",
       "    <tr>\n",
       "      <th>40</th>\n",
       "      <td>Croatia</td>\n",
       "      <td>Both sexes</td>\n",
       "      <td>8.1</td>\n",
       "      <td>14.5</td>\n",
       "    </tr>\n",
       "    <tr>\n",
       "      <th>41</th>\n",
       "      <td>Cuba</td>\n",
       "      <td>Both sexes</td>\n",
       "      <td>5.7</td>\n",
       "      <td>12.1</td>\n",
       "    </tr>\n",
       "    <tr>\n",
       "      <th>42</th>\n",
       "      <td>Cyprus</td>\n",
       "      <td>Both sexes</td>\n",
       "      <td>5.3</td>\n",
       "      <td>6.1</td>\n",
       "    </tr>\n",
       "    <tr>\n",
       "      <th>43</th>\n",
       "      <td>Czechia</td>\n",
       "      <td>Both sexes</td>\n",
       "      <td>10.8</td>\n",
       "      <td>14.3</td>\n",
       "    </tr>\n",
       "    <tr>\n",
       "      <th>54</th>\n",
       "      <td>Estonia</td>\n",
       "      <td>Both sexes</td>\n",
       "      <td>15.4</td>\n",
       "      <td>17.8</td>\n",
       "    </tr>\n",
       "    <tr>\n",
       "      <th>58</th>\n",
       "      <td>Finland</td>\n",
       "      <td>Both sexes</td>\n",
       "      <td>17.0</td>\n",
       "      <td>19.2</td>\n",
       "    </tr>\n",
       "    <tr>\n",
       "      <th>59</th>\n",
       "      <td>France</td>\n",
       "      <td>Both sexes</td>\n",
       "      <td>6.6</td>\n",
       "      <td>17.8</td>\n",
       "    </tr>\n",
       "    <tr>\n",
       "      <th>63</th>\n",
       "      <td>Germany</td>\n",
       "      <td>Both sexes</td>\n",
       "      <td>6.6</td>\n",
       "      <td>11.9</td>\n",
       "    </tr>\n",
       "    <tr>\n",
       "      <th>67</th>\n",
       "      <td>Guatemala</td>\n",
       "      <td>Both sexes</td>\n",
       "      <td>4.7</td>\n",
       "      <td>3.3</td>\n",
       "    </tr>\n",
       "    <tr>\n",
       "      <th>73</th>\n",
       "      <td>Hungary</td>\n",
       "      <td>Both sexes</td>\n",
       "      <td>7.8</td>\n",
       "      <td>17.6</td>\n",
       "    </tr>\n",
       "    <tr>\n",
       "      <th>80</th>\n",
       "      <td>Israel</td>\n",
       "      <td>Both sexes</td>\n",
       "      <td>4.6</td>\n",
       "      <td>7</td>\n",
       "    </tr>\n",
       "    <tr>\n",
       "      <th>83</th>\n",
       "      <td>Japan</td>\n",
       "      <td>Both sexes</td>\n",
       "      <td>15.1</td>\n",
       "      <td>19.7</td>\n",
       "    </tr>\n",
       "    <tr>\n",
       "      <th>91</th>\n",
       "      <td>Latvia</td>\n",
       "      <td>Both sexes</td>\n",
       "      <td>16.2</td>\n",
       "      <td>26.3</td>\n",
       "    </tr>\n",
       "    <tr>\n",
       "      <th>96</th>\n",
       "      <td>Lithuania</td>\n",
       "      <td>Both sexes</td>\n",
       "      <td>23.1</td>\n",
       "      <td>39.4</td>\n",
       "    </tr>\n",
       "    <tr>\n",
       "      <th>97</th>\n",
       "      <td>Luxembourg</td>\n",
       "      <td>Both sexes</td>\n",
       "      <td>7.6</td>\n",
       "      <td>11.7</td>\n",
       "    </tr>\n",
       "    <tr>\n",
       "      <th>109</th>\n",
       "      <td>Montenegro</td>\n",
       "      <td>Both sexes</td>\n",
       "      <td>5.5</td>\n",
       "      <td>8.8</td>\n",
       "    </tr>\n",
       "    <tr>\n",
       "      <th>115</th>\n",
       "      <td>Netherlands</td>\n",
       "      <td>Both sexes</td>\n",
       "      <td>6.9</td>\n",
       "      <td>13.8</td>\n",
       "    </tr>\n",
       "    <tr>\n",
       "      <th>116</th>\n",
       "      <td>New Zealand</td>\n",
       "      <td>Both sexes</td>\n",
       "      <td>18.7</td>\n",
       "      <td>15.4</td>\n",
       "    </tr>\n",
       "    <tr>\n",
       "      <th>120</th>\n",
       "      <td>Norway</td>\n",
       "      <td>Both sexes</td>\n",
       "      <td>9.9</td>\n",
       "      <td>14.1</td>\n",
       "    </tr>\n",
       "    <tr>\n",
       "      <th>128</th>\n",
       "      <td>Poland</td>\n",
       "      <td>Both sexes</td>\n",
       "      <td>14.0</td>\n",
       "      <td>18</td>\n",
       "    </tr>\n",
       "    <tr>\n",
       "      <th>136</th>\n",
       "      <td>Saint Lucia</td>\n",
       "      <td>Both sexes</td>\n",
       "      <td>7.4</td>\n",
       "      <td>10.2</td>\n",
       "    </tr>\n",
       "    <tr>\n",
       "      <th>147</th>\n",
       "      <td>Slovenia</td>\n",
       "      <td>Both sexes</td>\n",
       "      <td>10.2</td>\n",
       "      <td>16.7</td>\n",
       "    </tr>\n",
       "    <tr>\n",
       "      <th>156</th>\n",
       "      <td>Sweden</td>\n",
       "      <td>Both sexes</td>\n",
       "      <td>11.6</td>\n",
       "      <td>15.9</td>\n",
       "    </tr>\n",
       "    <tr>\n",
       "      <th>157</th>\n",
       "      <td>Switzerland</td>\n",
       "      <td>Both sexes</td>\n",
       "      <td>8.5</td>\n",
       "      <td>12.4</td>\n",
       "    </tr>\n",
       "    <tr>\n",
       "      <th>167</th>\n",
       "      <td>Turkey</td>\n",
       "      <td>Both sexes</td>\n",
       "      <td>13.7</td>\n",
       "      <td>10.6</td>\n",
       "    </tr>\n",
       "    <tr>\n",
       "      <th>170</th>\n",
       "      <td>Ukraine</td>\n",
       "      <td>Both sexes</td>\n",
       "      <td>18.2</td>\n",
       "      <td>28.8</td>\n",
       "    </tr>\n",
       "    <tr>\n",
       "      <th>174</th>\n",
       "      <td>United States of America</td>\n",
       "      <td>Both sexes</td>\n",
       "      <td>15.6</td>\n",
       "      <td>19.3</td>\n",
       "    </tr>\n",
       "    <tr>\n",
       "      <th>175</th>\n",
       "      <td>Uruguay</td>\n",
       "      <td>Both sexes</td>\n",
       "      <td>19.9</td>\n",
       "      <td>21.3</td>\n",
       "    </tr>\n",
       "  </tbody>\n",
       "</table>\n",
       "</div>"
      ],
      "text/plain": [
       "                      Country         Sex  15-29  years 30-49 years\n",
       "5                   Argentina  Both sexes          15.3        10.3\n",
       "7                   Australia  Both sexes          12.7          18\n",
       "13                   Barbados  Both sexes           0.0         0.4\n",
       "14                    Belarus  Both sexes          16.2          35\n",
       "15                    Belgium  Both sexes          11.2        23.8\n",
       "22                     Brazil  Both sexes           6.1         8.3\n",
       "30                     Canada  Both sexes          10.8        14.8\n",
       "38                 Costa Rica  Both sexes           9.6        10.2\n",
       "40                    Croatia  Both sexes           8.1        14.5\n",
       "41                       Cuba  Both sexes           5.7        12.1\n",
       "42                     Cyprus  Both sexes           5.3         6.1\n",
       "43                    Czechia  Both sexes          10.8        14.3\n",
       "54                    Estonia  Both sexes          15.4        17.8\n",
       "58                    Finland  Both sexes          17.0        19.2\n",
       "59                     France  Both sexes           6.6        17.8\n",
       "63                    Germany  Both sexes           6.6        11.9\n",
       "67                  Guatemala  Both sexes           4.7         3.3\n",
       "73                    Hungary  Both sexes           7.8        17.6\n",
       "80                     Israel  Both sexes           4.6           7\n",
       "83                      Japan  Both sexes          15.1        19.7\n",
       "91                     Latvia  Both sexes          16.2        26.3\n",
       "96                  Lithuania  Both sexes          23.1        39.4\n",
       "97                 Luxembourg  Both sexes           7.6        11.7\n",
       "109                Montenegro  Both sexes           5.5         8.8\n",
       "115               Netherlands  Both sexes           6.9        13.8\n",
       "116               New Zealand  Both sexes          18.7        15.4\n",
       "120                    Norway  Both sexes           9.9        14.1\n",
       "128                    Poland  Both sexes          14.0          18\n",
       "136               Saint Lucia  Both sexes           7.4        10.2\n",
       "147                  Slovenia  Both sexes          10.2        16.7\n",
       "156                    Sweden  Both sexes          11.6        15.9\n",
       "157               Switzerland  Both sexes           8.5        12.4\n",
       "167                    Turkey  Both sexes          13.7        10.6\n",
       "170                   Ukraine  Both sexes          18.2        28.8\n",
       "174  United States of America  Both sexes          15.6        19.3\n",
       "175                   Uruguay  Both sexes          19.9        21.3"
      ]
     },
     "execution_count": 29,
     "metadata": {},
     "output_type": "execute_result"
    }
   ],
   "source": [
    "df_suicide_rate_btsx.loc[df_suicide_rate_btsx[\"Country\"].isin(above_mean_listo)]"
   ]
  },
  {
   "cell_type": "code",
   "execution_count": 30,
   "metadata": {
    "ExecuteTime": {
     "end_time": "2019-06-06T12:31:16.645728Z",
     "start_time": "2019-06-06T12:31:16.626797Z"
    },
    "scrolled": false
   },
   "outputs": [
    {
     "data": {
      "text/html": [
       "<div>\n",
       "<style scoped>\n",
       "    .dataframe tbody tr th:only-of-type {\n",
       "        vertical-align: middle;\n",
       "    }\n",
       "\n",
       "    .dataframe tbody tr th {\n",
       "        vertical-align: top;\n",
       "    }\n",
       "\n",
       "    .dataframe thead th {\n",
       "        text-align: right;\n",
       "    }\n",
       "</style>\n",
       "<table border=\"1\" class=\"dataframe\">\n",
       "  <thead>\n",
       "    <tr style=\"text-align: right;\">\n",
       "      <th></th>\n",
       "      <th>Country</th>\n",
       "      <th>Year</th>\n",
       "      <th>Psychiatrists working in mental health sector (per 100 000 population)</th>\n",
       "      <th>Nurses working in mental health sector (per 100 000 population)</th>\n",
       "      <th>Social workers working in mental health sector (per 100 000 population)</th>\n",
       "      <th>Psychologists working in mental health sector (per 100 000 population)</th>\n",
       "      <th>Resource Sum</th>\n",
       "    </tr>\n",
       "  </thead>\n",
       "  <tbody>\n",
       "    <tr>\n",
       "      <th>0</th>\n",
       "      <td>Afghanistan</td>\n",
       "      <td>2016</td>\n",
       "      <td>0.231</td>\n",
       "      <td>0.098</td>\n",
       "      <td>5.18063</td>\n",
       "      <td>0.296000</td>\n",
       "      <td>5.805630</td>\n",
       "    </tr>\n",
       "    <tr>\n",
       "      <th>1</th>\n",
       "      <td>Albania</td>\n",
       "      <td>2016</td>\n",
       "      <td>1.471</td>\n",
       "      <td>6.876</td>\n",
       "      <td>1.06000</td>\n",
       "      <td>1.231000</td>\n",
       "      <td>10.638000</td>\n",
       "    </tr>\n",
       "    <tr>\n",
       "      <th>2</th>\n",
       "      <td>Angola</td>\n",
       "      <td>2016</td>\n",
       "      <td>0.057</td>\n",
       "      <td>0.660</td>\n",
       "      <td>0.02200</td>\n",
       "      <td>0.179000</td>\n",
       "      <td>0.918000</td>\n",
       "    </tr>\n",
       "    <tr>\n",
       "      <th>3</th>\n",
       "      <td>Antigua and Barbuda</td>\n",
       "      <td>2016</td>\n",
       "      <td>1.001</td>\n",
       "      <td>7.005</td>\n",
       "      <td>4.00300</td>\n",
       "      <td>12.454208</td>\n",
       "      <td>24.463208</td>\n",
       "    </tr>\n",
       "    <tr>\n",
       "      <th>5</th>\n",
       "      <td>Armenia</td>\n",
       "      <td>2016</td>\n",
       "      <td>3.840</td>\n",
       "      <td>11.245</td>\n",
       "      <td>0.27400</td>\n",
       "      <td>0.788000</td>\n",
       "      <td>16.147000</td>\n",
       "    </tr>\n",
       "  </tbody>\n",
       "</table>\n",
       "</div>"
      ],
      "text/plain": [
       "               Country  Year  \\\n",
       "0          Afghanistan  2016   \n",
       "1              Albania  2016   \n",
       "2               Angola  2016   \n",
       "3  Antigua and Barbuda  2016   \n",
       "5              Armenia  2016   \n",
       "\n",
       "   Psychiatrists working in mental health sector (per 100 000 population)  \\\n",
       "0                                              0.231                        \n",
       "1                                              1.471                        \n",
       "2                                              0.057                        \n",
       "3                                              1.001                        \n",
       "5                                              3.840                        \n",
       "\n",
       "   Nurses working in mental health sector (per 100 000 population)  \\\n",
       "0                                              0.098                 \n",
       "1                                              6.876                 \n",
       "2                                              0.660                 \n",
       "3                                              7.005                 \n",
       "5                                             11.245                 \n",
       "\n",
       "   Social workers working in mental health sector (per 100 000 population)  \\\n",
       "0                                            5.18063                         \n",
       "1                                            1.06000                         \n",
       "2                                            0.02200                         \n",
       "3                                            4.00300                         \n",
       "5                                            0.27400                         \n",
       "\n",
       "   Psychologists working in mental health sector (per 100 000 population)  \\\n",
       "0                                           0.296000                        \n",
       "1                                           1.231000                        \n",
       "2                                           0.179000                        \n",
       "3                                          12.454208                        \n",
       "5                                           0.788000                        \n",
       "\n",
       "   Resource Sum  \n",
       "0      5.805630  \n",
       "1     10.638000  \n",
       "2      0.918000  \n",
       "3     24.463208  \n",
       "5     16.147000  "
      ]
     },
     "execution_count": 30,
     "metadata": {},
     "output_type": "execute_result"
    }
   ],
   "source": [
    "df_below_mean=df_human_resources.loc[df_human_resources[\"Resource Sum\"]<38.126]\n",
    "df_below_mean.head()"
   ]
  },
  {
   "cell_type": "code",
   "execution_count": 31,
   "metadata": {
    "ExecuteTime": {
     "end_time": "2019-06-06T12:31:16.878398Z",
     "start_time": "2019-06-06T12:31:16.874264Z"
    }
   },
   "outputs": [],
   "source": [
    "below_mean_listo=list(df_below_mean[\"Country\"])"
   ]
  },
  {
   "cell_type": "code",
   "execution_count": 32,
   "metadata": {
    "ExecuteTime": {
     "end_time": "2019-06-06T12:31:17.078320Z",
     "start_time": "2019-06-06T12:31:17.070828Z"
    }
   },
   "outputs": [],
   "source": [
    "df_suicides_below_mean_countries=df_suicide_rate_btsx.loc[df_suicide_rate_btsx[\"Country\"].isin(below_mean_listo)]"
   ]
  },
  {
   "cell_type": "markdown",
   "metadata": {
    "ExecuteTime": {
     "end_time": "2019-06-05T15:16:09.939711Z",
     "start_time": "2019-06-05T15:16:09.921712Z"
    }
   },
   "source": [
    "### Alternative Hypothesis 1:\n",
    "\n",
    "There is a difference in suicide rates for countries below and above the mean threshold of mental health providers per 100,000 people ages 15-29\t\n",
    "\n",
    "Note: mental health providers include psychiatrists, psychologists, dedicated mental health nurses, social workers"
   ]
  },
  {
   "cell_type": "markdown",
   "metadata": {},
   "source": [
    "### T TEST: 2 independent samples"
   ]
  },
  {
   "cell_type": "code",
   "execution_count": 33,
   "metadata": {
    "ExecuteTime": {
     "end_time": "2019-06-06T12:31:18.009886Z",
     "start_time": "2019-06-06T12:31:17.527959Z"
    }
   },
   "outputs": [
    {
     "data": {
      "text/plain": [
       "Ttest_indResult(statistic=-2.1885696478687415, pvalue=0.03175338167560461)"
      ]
     },
     "execution_count": 33,
     "metadata": {},
     "output_type": "execute_result"
    }
   ],
   "source": [
    "from scipy.stats import ttest_ind\n",
    "ttest_ind(df_suicides_below_mean_countries[\"15-29  years\"], df_suicides_above_mean_countries[\"15-29  years\"], equal_var=False)"
   ]
  },
  {
   "cell_type": "code",
   "execution_count": 34,
   "metadata": {
    "ExecuteTime": {
     "end_time": "2019-06-06T12:31:18.166429Z",
     "start_time": "2019-06-06T12:31:18.159656Z"
    }
   },
   "outputs": [],
   "source": [
    "#make clear that support across providers equal weight"
   ]
  },
  {
   "cell_type": "markdown",
   "metadata": {},
   "source": [
    "## Alternative Hypothesis 2\n",
    "\n",
    "There is a difference in suicide rates for countries below  and above the mean threshold of psychiatrists per 100,000 people ages 15-29"
   ]
  },
  {
   "cell_type": "code",
   "execution_count": 35,
   "metadata": {
    "ExecuteTime": {
     "end_time": "2019-06-06T12:31:18.309616Z",
     "start_time": "2019-06-06T12:31:18.301605Z"
    }
   },
   "outputs": [
    {
     "data": {
      "text/plain": [
       "5.134958904109591"
      ]
     },
     "execution_count": 35,
     "metadata": {},
     "output_type": "execute_result"
    }
   ],
   "source": [
    "df_human_resources[\"Psychiatrists working in mental health sector (per 100 000 population)\"].mean()"
   ]
  },
  {
   "cell_type": "code",
   "execution_count": 36,
   "metadata": {
    "ExecuteTime": {
     "end_time": "2019-06-06T12:31:18.317047Z",
     "start_time": "2019-06-06T12:31:18.312530Z"
    }
   },
   "outputs": [],
   "source": [
    "df_human_resources_psychiatrists_above=df_human_resources.loc[df_human_resources[\"Psychiatrists working in mental health sector (per 100 000 population)\"]>5.135]\n"
   ]
  },
  {
   "cell_type": "code",
   "execution_count": 37,
   "metadata": {
    "ExecuteTime": {
     "end_time": "2019-06-06T12:31:18.326877Z",
     "start_time": "2019-06-06T12:31:18.321324Z"
    }
   },
   "outputs": [],
   "source": [
    "df_human_resources_psychiatrists_below=df_human_resources.loc[df_human_resources[\"Psychiatrists working in mental health sector (per 100 000 population)\"]<5.135]\n"
   ]
  },
  {
   "cell_type": "code",
   "execution_count": 38,
   "metadata": {
    "ExecuteTime": {
     "end_time": "2019-06-06T12:31:18.412903Z",
     "start_time": "2019-06-06T12:31:18.400385Z"
    }
   },
   "outputs": [],
   "source": [
    "below_mean_psychiatrists=list(df_human_resources_psychiatrists_below[\"Country\"])"
   ]
  },
  {
   "cell_type": "code",
   "execution_count": 39,
   "metadata": {
    "ExecuteTime": {
     "end_time": "2019-06-06T12:31:19.213675Z",
     "start_time": "2019-06-06T12:31:19.209455Z"
    }
   },
   "outputs": [],
   "source": [
    "above_mean_psychiatrists=list(df_human_resources_psychiatrists_above[\"Country\"])"
   ]
  },
  {
   "cell_type": "code",
   "execution_count": 40,
   "metadata": {
    "ExecuteTime": {
     "end_time": "2019-06-06T12:31:19.376802Z",
     "start_time": "2019-06-06T12:31:19.371528Z"
    }
   },
   "outputs": [],
   "source": [
    "df_psychiatrists_above_mean_countries=df_suicide_rate_btsx.loc[df_suicide_rate_btsx[\"Country\"].isin(above_mean_psychiatrists)]"
   ]
  },
  {
   "cell_type": "code",
   "execution_count": 41,
   "metadata": {
    "ExecuteTime": {
     "end_time": "2019-06-06T12:31:19.519737Z",
     "start_time": "2019-06-06T12:31:19.513542Z"
    }
   },
   "outputs": [],
   "source": [
    "df_psychiatrists_below_mean_countries=df_suicide_rate_btsx.loc[df_suicide_rate_btsx[\"Country\"].isin(below_mean_psychiatrists)]"
   ]
  },
  {
   "cell_type": "code",
   "execution_count": 42,
   "metadata": {
    "ExecuteTime": {
     "end_time": "2019-06-06T12:31:19.670493Z",
     "start_time": "2019-06-06T12:31:19.662819Z"
    }
   },
   "outputs": [
    {
     "data": {
      "text/plain": [
       "Ttest_indResult(statistic=-1.8711726016351151, pvalue=0.06485399036052825)"
      ]
     },
     "execution_count": 42,
     "metadata": {},
     "output_type": "execute_result"
    }
   ],
   "source": [
    "from scipy.stats import ttest_ind\n",
    "ttest_ind(df_psychiatrists_below_mean_countries[\"15-29  years\"], df_psychiatrists_above_mean_countries[\"15-29  years\"], equal_var=False)"
   ]
  },
  {
   "cell_type": "code",
   "execution_count": null,
   "metadata": {
    "ExecuteTime": {
     "end_time": "2019-06-05T18:45:34.747916Z",
     "start_time": "2019-06-05T18:45:34.734619Z"
    }
   },
   "outputs": [],
   "source": []
  },
  {
   "cell_type": "markdown",
   "metadata": {
    "ExecuteTime": {
     "end_time": "2019-06-05T18:07:19.404492Z",
     "start_time": "2019-06-05T18:07:19.397168Z"
    }
   },
   "source": [
    "### Alternative Hypothesis 3"
   ]
  },
  {
   "cell_type": "markdown",
   "metadata": {},
   "source": [
    "There is a difference in suicide rates for males in countries below and above the mean threshold of mental health professionals per 100,000 people ages 15-29"
   ]
  },
  {
   "cell_type": "code",
   "execution_count": 50,
   "metadata": {
    "ExecuteTime": {
     "end_time": "2019-06-06T12:31:32.200910Z",
     "start_time": "2019-06-06T12:31:32.196458Z"
    }
   },
   "outputs": [],
   "source": [
    "df_suicide_rate_male[\"15-29  years\"]=pd.to_numeric(df_suicide_rate_male[\"15-29  years\"])"
   ]
  },
  {
   "cell_type": "code",
   "execution_count": null,
   "metadata": {
    "ExecuteTime": {
     "end_time": "2019-06-06T12:31:32.781190Z",
     "start_time": "2019-06-06T12:31:32.767767Z"
    }
   },
   "outputs": [],
   "source": []
  },
  {
   "cell_type": "code",
   "execution_count": 53,
   "metadata": {
    "ExecuteTime": {
     "end_time": "2019-06-06T12:32:20.517331Z",
     "start_time": "2019-06-06T12:32:20.509750Z"
    }
   },
   "outputs": [],
   "source": [
    "df_suicide_rate_male_above=df_suicide_rate_male.loc[df_suicide_rate_male[\"Country\"].isin(above_mean_listo)]\n",
    "df_suicide_rate_male_below=df_suicide_rate_male.loc[df_suicide_rate_male[\"Country\"].isin(below_mean_listo)]\n"
   ]
  },
  {
   "cell_type": "markdown",
   "metadata": {},
   "source": [
    "### BOOTSTRAP"
   ]
  },
  {
   "cell_type": "code",
   "execution_count": 54,
   "metadata": {
    "ExecuteTime": {
     "end_time": "2019-06-06T12:32:25.752204Z",
     "start_time": "2019-06-06T12:32:25.747684Z"
    }
   },
   "outputs": [],
   "source": [
    "\n",
    "def bootstrap(sample, n):\n",
    "    return np.random.choice(sample, n, replace=True)"
   ]
  },
  {
   "cell_type": "code",
   "execution_count": 55,
   "metadata": {
    "ExecuteTime": {
     "end_time": "2019-06-06T12:32:26.441340Z",
     "start_time": "2019-06-06T12:32:26.416596Z"
    }
   },
   "outputs": [],
   "source": [
    "np.random.seed(1)\n",
    "bootstrap_above=bootstrap(df_suicide_rate_male_above[\"15-29  years\"],5000)"
   ]
  },
  {
   "cell_type": "code",
   "execution_count": 56,
   "metadata": {
    "ExecuteTime": {
     "end_time": "2019-06-06T12:32:27.430007Z",
     "start_time": "2019-06-06T12:32:27.419360Z"
    }
   },
   "outputs": [],
   "source": [
    "np.random.seed(1)\n",
    "bootsrap_below=bootstrap(df_suicide_rate_male_below[\"15-29  years\"],5000)"
   ]
  },
  {
   "cell_type": "code",
   "execution_count": 57,
   "metadata": {
    "ExecuteTime": {
     "end_time": "2019-06-06T12:32:28.233186Z",
     "start_time": "2019-06-06T12:32:28.226679Z"
    }
   },
   "outputs": [
    {
     "data": {
      "text/plain": [
       "array([ 6. ,  8.3,  5.7, ...,  5. , 17.3,  5.5])"
      ]
     },
     "execution_count": 57,
     "metadata": {},
     "output_type": "execute_result"
    }
   ],
   "source": [
    "bootsrap_below"
   ]
  },
  {
   "cell_type": "code",
   "execution_count": null,
   "metadata": {},
   "outputs": [],
   "source": []
  },
  {
   "cell_type": "code",
   "execution_count": 58,
   "metadata": {
    "ExecuteTime": {
     "end_time": "2019-06-06T12:32:30.314540Z",
     "start_time": "2019-06-06T12:32:30.307207Z"
    },
    "scrolled": true
   },
   "outputs": [
    {
     "data": {
      "text/plain": [
       "Ttest_indResult(statistic=-2.967964632503082, pvalue=0.004221055175248719)"
      ]
     },
     "execution_count": 58,
     "metadata": {},
     "output_type": "execute_result"
    }
   ],
   "source": [
    "ttest_ind(df_suicide_rate_male_below[\"15-29  years\"], df_suicide_rate_male_above[\"15-29  years\"], equal_var=False)"
   ]
  },
  {
   "cell_type": "code",
   "execution_count": 59,
   "metadata": {
    "ExecuteTime": {
     "end_time": "2019-06-06T12:32:32.343961Z",
     "start_time": "2019-06-06T12:32:32.339886Z"
    }
   },
   "outputs": [],
   "source": [
    "import seaborn as sns\n",
    "import matplotlib.pyplot as plt\n",
    "import numpy as np\n",
    "import pandas as pd\n",
    "\n"
   ]
  },
  {
   "cell_type": "code",
   "execution_count": 60,
   "metadata": {
    "ExecuteTime": {
     "end_time": "2019-06-06T12:32:33.661635Z",
     "start_time": "2019-06-06T12:32:33.079673Z"
    }
   },
   "outputs": [
    {
     "name": "stderr",
     "output_type": "stream",
     "text": [
      "/anaconda3/lib/python3.7/site-packages/scipy/stats/stats.py:1713: FutureWarning: Using a non-tuple sequence for multidimensional indexing is deprecated; use `arr[tuple(seq)]` instead of `arr[seq]`. In the future this will be interpreted as an array index, `arr[np.array(seq)]`, which will result either in an error or a different result.\n",
      "  return np.add.reduce(sorted[indexer] * weights, axis=axis) / sumval\n"
     ]
    },
    {
     "data": {
      "text/plain": [
       "Text(0, 0.5, 'Frequency')"
      ]
     },
     "execution_count": 60,
     "metadata": {},
     "output_type": "execute_result"
    },
    {
     "data": {
      "image/png": "[encoded data removed]",
      "text/plain": [
       "<Figure size 432x288 with 1 Axes>"
      ]
     },
     "metadata": {
      "needs_background": "light"
     },
     "output_type": "display_data"
    }
   ],
   "source": [
    "sns.distplot(bootstrap_above, kde=False, color=\"skyblue\", label=\"Number of providers above\")\n",
    "sns.distplot(bootsrap_below, kde=False, color=\"red\", label=\"Suicide's per 100,000\")\n",
    "plt.legend(prop={'size': 12})\n",
    "plt.title('Life Expectancy of Two Continents')\n",
    "plt.xlabel('Suicide rate')\n",
    "plt.ylabel('Frequency')\n"
   ]
  },
  {
   "cell_type": "code",
   "execution_count": 61,
   "metadata": {
    "ExecuteTime": {
     "end_time": "2019-06-06T12:32:34.311436Z",
     "start_time": "2019-06-06T12:32:33.981117Z"
    }
   },
   "outputs": [
    {
     "data": {
      "image/png": "[encoded data removed]",
      "text/plain": [
       "<Figure size 432x288 with 1 Axes>"
      ]
     },
     "metadata": {
      "needs_background": "light"
     },
     "output_type": "display_data"
    }
   ],
   "source": [
    "p1=sns.kdeplot(df_suicide_rate_male_above[\"15-29  years\"], vertical=False, shade=True, color=\"r\")\n",
    "p1=sns.kdeplot(df_suicide_rate_male_below[\"15-29  years\"], vertical=False, shade=True, color=\"b\")\n"
   ]
  },
  {
   "cell_type": "code",
   "execution_count": 62,
   "metadata": {
    "ExecuteTime": {
     "end_time": "2019-06-06T12:32:35.362731Z",
     "start_time": "2019-06-06T12:32:34.982097Z"
    }
   },
   "outputs": [
    {
     "data": {
      "text/plain": [
       "<matplotlib.axes._subplots.AxesSubplot at 0x1a22510828>"
      ]
     },
     "execution_count": 62,
     "metadata": {},
     "output_type": "execute_result"
    },
    {
     "data": {
      "image/png": "[encoded data removed]",
      "text/plain": [
       "<Figure size 432x288 with 1 Axes>"
      ]
     },
     "metadata": {
      "needs_background": "light"
     },
     "output_type": "display_data"
    }
   ],
   "source": [
    "df_suicide_rate_male_above[\"15-29  years\"].hist(bins=20)\n",
    "df_suicide_rate_male_below[\"15-29  years\"].hist(bins=20)"
   ]
  },
  {
   "cell_type": "code",
   "execution_count": null,
   "metadata": {},
   "outputs": [],
   "source": []
  },
  {
   "cell_type": "markdown",
   "metadata": {},
   "source": [
    "### Alternative Hypothesis 4\n",
    "\n",
    "There is a difference in suicide rates for males in countries below and above the mean threshold of mental health professionals per 100,000 people ages 15-29"
   ]
  },
  {
   "cell_type": "code",
   "execution_count": 63,
   "metadata": {
    "ExecuteTime": {
     "end_time": "2019-06-06T12:32:36.846342Z",
     "start_time": "2019-06-06T12:32:36.838814Z"
    }
   },
   "outputs": [],
   "source": [
    "df_suicide_rate_female[\"15-29  years\"]=pd.to_numeric(df_suicide_rate_female[\"15-29  years\"])"
   ]
  },
  {
   "cell_type": "code",
   "execution_count": 64,
   "metadata": {
    "ExecuteTime": {
     "end_time": "2019-06-06T12:32:37.245331Z",
     "start_time": "2019-06-06T12:32:37.213731Z"
    }
   },
   "outputs": [
    {
     "data": {
      "text/html": [
       "<div>\n",
       "<style scoped>\n",
       "    .dataframe tbody tr th:only-of-type {\n",
       "        vertical-align: middle;\n",
       "    }\n",
       "\n",
       "    .dataframe tbody tr th {\n",
       "        vertical-align: top;\n",
       "    }\n",
       "\n",
       "    .dataframe thead th {\n",
       "        text-align: right;\n",
       "    }\n",
       "</style>\n",
       "<table border=\"1\" class=\"dataframe\">\n",
       "  <thead>\n",
       "    <tr style=\"text-align: right;\">\n",
       "      <th></th>\n",
       "      <th>Country</th>\n",
       "      <th>Sex</th>\n",
       "      <th>15-29  years</th>\n",
       "      <th>30-49 years</th>\n",
       "    </tr>\n",
       "  </thead>\n",
       "  <tbody>\n",
       "    <tr>\n",
       "      <th>0</th>\n",
       "      <td>Afghanistan</td>\n",
       "      <td>Female</td>\n",
       "      <td>3.0</td>\n",
       "      <td>2.5</td>\n",
       "    </tr>\n",
       "    <tr>\n",
       "      <th>1</th>\n",
       "      <td>Albania</td>\n",
       "      <td>Female</td>\n",
       "      <td>8.1</td>\n",
       "      <td>4.2</td>\n",
       "    </tr>\n",
       "    <tr>\n",
       "      <th>2</th>\n",
       "      <td>Algeria</td>\n",
       "      <td>Female</td>\n",
       "      <td>2.0</td>\n",
       "      <td>2.5</td>\n",
       "    </tr>\n",
       "    <tr>\n",
       "      <th>3</th>\n",
       "      <td>Angola</td>\n",
       "      <td>Female</td>\n",
       "      <td>2.8</td>\n",
       "      <td>2.9</td>\n",
       "    </tr>\n",
       "    <tr>\n",
       "      <th>4</th>\n",
       "      <td>Antigua and Barbuda</td>\n",
       "      <td>Female</td>\n",
       "      <td>0.0</td>\n",
       "      <td>0</td>\n",
       "    </tr>\n",
       "  </tbody>\n",
       "</table>\n",
       "</div>"
      ],
      "text/plain": [
       "               Country     Sex  15-29  years 30-49 years\n",
       "0          Afghanistan  Female           3.0         2.5\n",
       "1              Albania  Female           8.1         4.2\n",
       "2              Algeria  Female           2.0         2.5\n",
       "3               Angola  Female           2.8         2.9\n",
       "4  Antigua and Barbuda  Female           0.0           0"
      ]
     },
     "execution_count": 64,
     "metadata": {},
     "output_type": "execute_result"
    }
   ],
   "source": [
    "df_suicide_rate_female.head()"
   ]
  },
  {
   "cell_type": "code",
   "execution_count": 65,
   "metadata": {
    "ExecuteTime": {
     "end_time": "2019-06-06T12:32:37.549746Z",
     "start_time": "2019-06-06T12:32:37.541658Z"
    }
   },
   "outputs": [],
   "source": [
    "df_suicide_rate_female_above=df_suicide_rate_female.loc[df_suicide_rate_female[\"Country\"].isin(above_mean_listo)]\n",
    "df_suicide_rate_female_below=df_suicide_rate_female.loc[df_suicide_rate_female[\"Country\"].isin(below_mean_listo)]\n"
   ]
  },
  {
   "cell_type": "code",
   "execution_count": 66,
   "metadata": {
    "ExecuteTime": {
     "end_time": "2019-06-06T12:32:37.875804Z",
     "start_time": "2019-06-06T12:32:37.865018Z"
    }
   },
   "outputs": [
    {
     "data": {
      "text/plain": [
       "Ttest_indResult(statistic=1.1460838098127855, pvalue=0.25390314603668473)"
      ]
     },
     "execution_count": 66,
     "metadata": {},
     "output_type": "execute_result"
    }
   ],
   "source": [
    "ttest_ind(df_suicide_rate_female_below[\"15-29  years\"], df_suicide_rate_female_above[\"15-29  years\"], equal_var=False)"
   ]
  },
  {
   "cell_type": "code",
   "execution_count": null,
   "metadata": {},
   "outputs": [],
   "source": []
  },
  {
   "cell_type": "code",
   "execution_count": null,
   "metadata": {},
   "outputs": [],
   "source": []
  },
  {
   "cell_type": "code",
   "execution_count": null,
   "metadata": {},
   "outputs": [],
   "source": []
  },
  {
   "cell_type": "code",
   "execution_count": null,
   "metadata": {},
   "outputs": [],
   "source": []
  },
  {
   "cell_type": "code",
   "execution_count": null,
   "metadata": {},
   "outputs": [],
   "source": []
  },
  {
   "cell_type": "code",
   "execution_count": null,
   "metadata": {},
   "outputs": [],
   "source": []
  }
 ],
 "metadata": {
  "kernelspec": {
   "display_name": "Python 3",
   "language": "python",
   "name": "python3"
  },
  "language_info": {
   "codemirror_mode": {
    "name": "ipython",
    "version": 3
   },
   "file_extension": ".py",
   "mimetype": "text/x-python",
   "name": "python",
   "nbconvert_exporter": "python",
   "pygments_lexer": "ipython3",
   "version": "3.7.1"
  },
  "toc": {
   "base_numbering": 1,
   "nav_menu": {},
   "number_sections": true,
   "sideBar": true,
   "skip_h1_title": false,
   "title_cell": "Table of Contents",
   "title_sidebar": "Contents",
   "toc_cell": false,
   "toc_position": {},
   "toc_section_display": true,
   "toc_window_display": false
  },
  "varInspector": {
   "cols": {
    "lenName": 16,
    "lenType": 16,
    "lenVar": 40
   },
   "kernels_config": {
    "python": {
     "delete_cmd_postfix": "",
     "delete_cmd_prefix": "del ",
     "library": "var_list.py",
     "varRefreshCmd": "print(var_dic_list())"
    },
    "r": {
     "delete_cmd_postfix": ") ",
     "delete_cmd_prefix": "rm(",
     "library": "var_list.r",
     "varRefreshCmd": "cat(var_dic_list()) "
    }
   },
   "types_to_exclude": [
    "module",
    "function",
    "builtin_function_or_method",
    "instance",
    "_Feature"
   ],
   "window_display": false
  }
 },
 "nbformat": 4,
 "nbformat_minor": 2
}
