{
 "cells": [
  {
   "cell_type": "code",
   "execution_count": 1,
   "metadata": {
    "ExecuteTime": {
     "end_time": "2019-06-06T13:46:12.935339Z",
     "start_time": "2019-06-06T13:46:12.931977Z"
    }
   },
   "outputs": [],
   "source": [
    "import pandas as pd\n",
    "import numpy as np\n",
    "import sqlite3\n",
    "from statistics import mean, stdev\n",
    "from math import sqrt\n",
    "import matplotlib.pyplot as plt\n",
    "import statsmodels.api as sm\n",
    "from statsmodels.formula.api import ols\n",
    "from bootstrap_and_compare_function import*"
   ]
  },
  {
   "cell_type": "code",
   "execution_count": 2,
   "metadata": {
    "ExecuteTime": {
     "end_time": "2019-06-06T13:46:13.685611Z",
     "start_time": "2019-06-06T13:46:13.678496Z"
    }
   },
   "outputs": [],
   "source": [
    "# Connecting to the database, who_suicide, which has 3 tables: \n",
    "\n",
    "conn=sqlite3.connect(\"/Users/flatironschool/Desktop/who_suicide.db\")\n",
    "c=conn.cursor()\n",
    "\n",
    "# suicide_rate\n",
    "#     Country\n",
    "#     Year\n",
    "#     15-29 years \n",
    "#     35-50 years\n",
    "\n",
    "    # (Observations are divided into male, female, and both sexes(btsx), the year is always 2016)\n",
    "    \n",
    "# human_resources\n",
    "#     Country\n",
    "#     Year\n",
    "#     Psychologists working in mental health sector (per 100 000 population)\n",
    "#     Nurses working in mental health sector (per 100 000 population)\n",
    "#     Social workers working in mental health sector (per 100 000 population)\n",
    "#     Psychiatrists working in mental health sector (per 100 000 population)\n",
    "\n",
    "# facilities\n",
    "#     Country\n",
    "#     Year\n",
    "#     Mental hospitals (per 100 000 population)\n",
    "#     Mental health units in general hospitals (per 100 000 population)\n",
    "#     Mental health outpatient facilities (per 100 000 population)\n",
    "#     Mental health day treatment facilities (per 100 000 population)\n",
    "#     Community residential facilities (per 100 000 population\n"
   ]
  },
  {
   "cell_type": "code",
   "execution_count": 3,
   "metadata": {},
   "outputs": [
    {
     "data": {
      "text/html": [
       "<div>\n",
       "<style scoped>\n",
       "    .dataframe tbody tr th:only-of-type {\n",
       "        vertical-align: middle;\n",
       "    }\n",
       "\n",
       "    .dataframe tbody tr th {\n",
       "        vertical-align: top;\n",
       "    }\n",
       "\n",
       "    .dataframe thead th {\n",
       "        text-align: right;\n",
       "    }\n",
       "</style>\n",
       "<table border=\"1\" class=\"dataframe\">\n",
       "  <thead>\n",
       "    <tr style=\"text-align: right;\">\n",
       "      <th></th>\n",
       "      <th>Psychologists</th>\n",
       "      <th>Nurses</th>\n",
       "      <th>Social_Workers</th>\n",
       "      <th>Psychiatrists</th>\n",
       "      <th>total_mh_personnel</th>\n",
       "    </tr>\n",
       "  </thead>\n",
       "  <tbody>\n",
       "    <tr>\n",
       "      <th>count</th>\n",
       "      <td>154.000000</td>\n",
       "      <td>154.000000</td>\n",
       "      <td>154.000000</td>\n",
       "      <td>154.000000</td>\n",
       "      <td>154.000000</td>\n",
       "    </tr>\n",
       "    <tr>\n",
       "      <th>mean</th>\n",
       "      <td>9.704578</td>\n",
       "      <td>12.663916</td>\n",
       "      <td>3.364045</td>\n",
       "      <td>4.868208</td>\n",
       "      <td>30.600747</td>\n",
       "    </tr>\n",
       "    <tr>\n",
       "      <th>std</th>\n",
       "      <td>29.045814</td>\n",
       "      <td>24.874641</td>\n",
       "      <td>16.266182</td>\n",
       "      <td>8.041757</td>\n",
       "      <td>55.832789</td>\n",
       "    </tr>\n",
       "    <tr>\n",
       "      <th>min</th>\n",
       "      <td>0.000000</td>\n",
       "      <td>0.000000</td>\n",
       "      <td>0.000000</td>\n",
       "      <td>0.000000</td>\n",
       "      <td>0.035000</td>\n",
       "    </tr>\n",
       "    <tr>\n",
       "      <th>25%</th>\n",
       "      <td>0.013000</td>\n",
       "      <td>0.219500</td>\n",
       "      <td>0.000000</td>\n",
       "      <td>0.130000</td>\n",
       "      <td>1.565750</td>\n",
       "    </tr>\n",
       "    <tr>\n",
       "      <th>50%</th>\n",
       "      <td>0.560000</td>\n",
       "      <td>2.593500</td>\n",
       "      <td>0.068000</td>\n",
       "      <td>1.239000</td>\n",
       "      <td>8.025500</td>\n",
       "    </tr>\n",
       "    <tr>\n",
       "      <th>75%</th>\n",
       "      <td>3.060250</td>\n",
       "      <td>10.563000</td>\n",
       "      <td>0.643000</td>\n",
       "      <td>5.934250</td>\n",
       "      <td>27.670750</td>\n",
       "    </tr>\n",
       "    <tr>\n",
       "      <th>max</th>\n",
       "      <td>222.572000</td>\n",
       "      <td>150.251000</td>\n",
       "      <td>145.400000</td>\n",
       "      <td>48.040000</td>\n",
       "      <td>277.478000</td>\n",
       "    </tr>\n",
       "  </tbody>\n",
       "</table>\n",
       "</div>"
      ],
      "text/plain": [
       "       Psychologists      Nurses  Social_Workers  Psychiatrists  \\\n",
       "count     154.000000  154.000000      154.000000     154.000000   \n",
       "mean        9.704578   12.663916        3.364045       4.868208   \n",
       "std        29.045814   24.874641       16.266182       8.041757   \n",
       "min         0.000000    0.000000        0.000000       0.000000   \n",
       "25%         0.013000    0.219500        0.000000       0.130000   \n",
       "50%         0.560000    2.593500        0.068000       1.239000   \n",
       "75%         3.060250   10.563000        0.643000       5.934250   \n",
       "max       222.572000  150.251000      145.400000      48.040000   \n",
       "\n",
       "       total_mh_personnel  \n",
       "count          154.000000  \n",
       "mean            30.600747  \n",
       "std             55.832789  \n",
       "min              0.035000  \n",
       "25%              1.565750  \n",
       "50%              8.025500  \n",
       "75%             27.670750  \n",
       "max            277.478000  "
      ]
     },
     "execution_count": 3,
     "metadata": {},
     "output_type": "execute_result"
    }
   ],
   "source": [
    "# Finding out the mean values of the columns in the human_resources table so we can fill in nulls\n",
    "\n",
    "df_with_nulls = pd.read_sql_query(\"\"\"SELECT\n",
    "                          Country,\n",
    "                          CAST([Psychologists working in mental health sector (per 100 000 population)] AS float) AS Psychologists,\n",
    "                          CAST([Nurses working in mental health sector (per 100 000 population)] AS float) AS Nurses,\n",
    "                          CAST([Social workers working in mental health sector (per 100 000 population)] AS float) AS Social_Workers,\n",
    "                          CAST([Psychiatrists working in mental health sector (per 100 000 population)] AS float) AS Psychiatrists,\n",
    "                          CAST([Psychiatrists working in mental health sector (per 100 000 population)] AS float)\n",
    "                          + CAST([Nurses working in mental health sector (per 100 000 population)] AS float)\n",
    "                          + CAST([Social workers working in mental health sector (per 100 000 population)] AS float)\n",
    "                          + CAST([Psychologists working in mental health sector (per 100 000 population)] AS float) as total_mh_personnel\n",
    "                          FROM human_resources;\"\"\", con=conn)\n",
    "\n",
    "df_with_nulls.describe()"
   ]
  },
  {
   "cell_type": "code",
   "execution_count": 4,
   "metadata": {
    "ExecuteTime": {
     "end_time": "2019-06-06T13:46:16.410654Z",
     "start_time": "2019-06-06T13:46:16.353674Z"
    }
   },
   "outputs": [],
   "source": [
    "# Using SQL to:\n",
    "#     fill null values with COALESCE,\n",
    "#     cast strings as floats so we can sum the columns and get the total of mental health providers per country,\n",
    "#     select countries with above or below the mean number of mental health providers, \n",
    "#     join tables on the country column,\n",
    "#     and select the number of suicides per country.\n",
    "\n",
    "df_suicide_rate_btsx_above = pd.read_sql_query(\"\"\"SELECT Country, CAST([15-29  years] AS float) AS [15-29  years]\n",
    "                     FROM (SELECT\n",
    "                          Country,\n",
    "                          COALESCE([Psychologists working in mental health sector (per 100 000 population)], 9.705),\n",
    "                          COALESCE([Nurses working in mental health sector (per 100 000 population)], 12.664),\n",
    "                          COALESCE([Social workers working in mental health sector (per 100 000 population)], 3.364),\n",
    "                          COALESCE([Psychiatrists working in mental health sector (per 100 000 population)], 4.868),\n",
    "                          CAST([Psychiatrists working in mental health sector (per 100 000 population)] AS float)\n",
    "                          + CAST([Nurses working in mental health sector (per 100 000 population)] AS float)\n",
    "                          + CAST([Social workers working in mental health sector (per 100 000 population)] AS float)\n",
    "                          + CAST([Psychologists working in mental health sector (per 100 000 population)] AS float) as total_mh_personnel\n",
    "                          FROM human_resources \n",
    "                          WHERE total_mh_personnel >= 30.601)\n",
    "                    LEFT JOIN suicide_rate\n",
    "                    Using(Country)\n",
    "                    WHERE Sex = \"Both sexes\";\"\"\", con=conn)\n",
    "\n",
    "df_suicide_rate_btsx_below = pd.read_sql_query(\"\"\"SELECT Country, CAST([15-29  years] AS float) AS [15-29  years]\n",
    "                     FROM (SELECT\n",
    "                          Country,\n",
    "                          COALESCE([Psychologists working in mental health sector (per 100 000 population)], 9.705),\n",
    "                          COALESCE([Nurses working in mental health sector (per 100 000 population)], 12.664),\n",
    "                          COALESCE([Social workers working in mental health sector (per 100 000 population)], 3.364),\n",
    "                          COALESCE([Psychiatrists working in mental health sector (per 100 000 population)], 4.868),\n",
    "                          CAST([Psychiatrists working in mental health sector (per 100 000 population)] AS float)\n",
    "                          + CAST([Nurses working in mental health sector (per 100 000 population)] AS float)\n",
    "                          + CAST([Social workers working in mental health sector (per 100 000 population)] AS float)\n",
    "                          + CAST([Psychologists working in mental health sector (per 100 000 population)] AS float) as total_mh_personnel\n",
    "                          FROM human_resources \n",
    "                          WHERE total_mh_personnel < 30.601)\n",
    "                    LEFT JOIN suicide_rate\n",
    "                    Using(Country)\n",
    "                    WHERE Sex = \"Both sexes\";\"\"\", con=conn)\n",
    "\n",
    "df_suicide_rate_male_above = pd.read_sql_query(\"\"\"SELECT Country, CAST([15-29  years] AS float) AS [15-29  years]\n",
    "                     FROM (SELECT\n",
    "                          Country,\n",
    "                          COALESCE([Psychologists working in mental health sector (per 100 000 population)], 9.705),\n",
    "                          COALESCE([Nurses working in mental health sector (per 100 000 population)], 12.664),\n",
    "                          COALESCE([Social workers working in mental health sector (per 100 000 population)], 3.364),\n",
    "                          COALESCE([Psychiatrists working in mental health sector (per 100 000 population)], 4.868),\n",
    "                          CAST([Psychiatrists working in mental health sector (per 100 000 population)] AS float)\n",
    "                          + CAST([Nurses working in mental health sector (per 100 000 population)] AS float)\n",
    "                          + CAST([Social workers working in mental health sector (per 100 000 population)] AS float)\n",
    "                          + CAST([Psychologists working in mental health sector (per 100 000 population)] AS float) as total_mh_personnel\n",
    "                          FROM human_resources \n",
    "                          WHERE total_mh_personnel >= 30.601)\n",
    "                    LEFT JOIN suicide_rate\n",
    "                    Using(Country)\n",
    "                    WHERE Sex = \"Male\";\"\"\", con=conn)\n",
    "\n",
    "df_suicide_rate_male_below = pd.read_sql_query(\"\"\"SELECT Country, CAST([15-29  years] AS float) AS [15-29  years]\n",
    "                     FROM (SELECT\n",
    "                          Country,\n",
    "                          COALESCE([Psychologists working in mental health sector (per 100 000 population)], 9.705),\n",
    "                          COALESCE([Nurses working in mental health sector (per 100 000 population)], 12.664),\n",
    "                          COALESCE([Social workers working in mental health sector (per 100 000 population)], 3.364),\n",
    "                          COALESCE([Psychiatrists working in mental health sector (per 100 000 population)], 4.868),\n",
    "                          CAST([Psychiatrists working in mental health sector (per 100 000 population)] AS float)\n",
    "                          + CAST([Nurses working in mental health sector (per 100 000 population)] AS float)\n",
    "                          + CAST([Social workers working in mental health sector (per 100 000 population)] AS float)\n",
    "                          + CAST([Psychologists working in mental health sector (per 100 000 population)] AS float) as total_mh_personnel\n",
    "                          FROM human_resources \n",
    "                          WHERE total_mh_personnel < 30.601)\n",
    "                    LEFT JOIN suicide_rate\n",
    "                    Using(Country)\n",
    "                    WHERE Sex = \"Male\";\"\"\", con=conn)\n",
    "\n",
    "df_suicide_rate_female_above = pd.read_sql_query(\"\"\"SELECT Country, CAST([15-29  years] AS float) AS [15-29  years]\n",
    "                     FROM (SELECT\n",
    "                          Country,\n",
    "                          COALESCE([Psychologists working in mental health sector (per 100 000 population)], 9.705),\n",
    "                          COALESCE([Nurses working in mental health sector (per 100 000 population)], 12.664),\n",
    "                          COALESCE([Social workers working in mental health sector (per 100 000 population)], 3.364),\n",
    "                          COALESCE([Psychiatrists working in mental health sector (per 100 000 population)], 4.868),\n",
    "                          CAST([Psychiatrists working in mental health sector (per 100 000 population)] AS float)\n",
    "                          + CAST([Nurses working in mental health sector (per 100 000 population)] AS float)\n",
    "                          + CAST([Social workers working in mental health sector (per 100 000 population)] AS float)\n",
    "                          + CAST([Psychologists working in mental health sector (per 100 000 population)] AS float) as total_mh_personnel\n",
    "                          FROM human_resources \n",
    "                          WHERE total_mh_personnel >= 30.601)\n",
    "                    LEFT JOIN suicide_rate\n",
    "                    Using(Country)\n",
    "                    WHERE Sex = \"Female\";\"\"\", con=conn)\n",
    "\n",
    "df_suicide_rate_female_below = pd.read_sql_query(\"\"\"SELECT Country, CAST([15-29  years] AS float) AS [15-29  years]\n",
    "                     FROM (SELECT\n",
    "                          Country,\n",
    "                          COALESCE([Psychologists working in mental health sector (per 100 000 population)], 9.705),\n",
    "                          COALESCE([Nurses working in mental health sector (per 100 000 population)], 12.664),\n",
    "                          COALESCE([Social workers working in mental health sector (per 100 000 population)], 3.364),\n",
    "                          COALESCE([Psychiatrists working in mental health sector (per 100 000 population)], 4.868),\n",
    "                          CAST([Psychiatrists working in mental health sector (per 100 000 population)] AS float)\n",
    "                          + CAST([Nurses working in mental health sector (per 100 000 population)] AS float)\n",
    "                          + CAST([Social workers working in mental health sector (per 100 000 population)] AS float)\n",
    "                          + CAST([Psychologists working in mental health sector (per 100 000 population)] AS float) as total_mh_personnel\n",
    "                          FROM human_resources \n",
    "                          WHERE total_mh_personnel < 30.601)\n",
    "                    LEFT JOIN suicide_rate\n",
    "                    Using(Country)\n",
    "                    WHERE Sex = \"Female\";\"\"\", con=conn)\n"
   ]
  },
  {
   "cell_type": "markdown",
   "metadata": {},
   "source": [
    "# Does availability of mental health providers improve mental health outcomes?"
   ]
  },
  {
   "cell_type": "markdown",
   "metadata": {
    "ExecuteTime": {
     "end_time": "2019-06-05T15:16:09.939711Z",
     "start_time": "2019-06-05T15:16:09.921712Z"
    }
   },
   "source": [
    "### Alternative Hypothesis 1:\n",
    "\n",
    "There is a difference in suicide rates for countries below and above the mean threshold of mental health providers per 100,000 people ages 15-29\n",
    "\n",
    "H0: There is no difference\n",
    "\n",
    "Note: mental health providers include psychiatrists, psychologists, dedicated mental health nurses, social workers"
   ]
  },
  {
   "cell_type": "code",
   "execution_count": 5,
   "metadata": {
    "ExecuteTime": {
     "end_time": "2019-06-06T13:40:07.572817Z",
     "start_time": "2019-06-06T13:40:07.030633Z"
    }
   },
   "outputs": [
    {
     "data": {
      "text/plain": [
       "<matplotlib.legend.Legend at 0x1c199a7588>"
      ]
     },
     "execution_count": 5,
     "metadata": {},
     "output_type": "execute_result"
    },
    {
     "data": {
      "image/png": "[encoded data removed]",
      "text/plain": [
       "<Figure size 432x288 with 1 Axes>"
      ]
     },
     "metadata": {
      "needs_background": "light"
     },
     "output_type": "display_data"
    }
   ],
   "source": [
    "# The distributions of suicides in countries with above average vs. below average number of providers are not normal.\n",
    "# Also, our \"above average\" group is small.\n",
    "# Hence, we decided to bootstrap samples and create a sampling distribution to compare the populations\n",
    "\n",
    "\n",
    "sns.distplot(df_suicide_rate_btsx_above[\"15-29  years\"], color='red', label=\"above mean\")\n",
    "sns.distplot(df_suicide_rate_btsx_below[\"15-29  years\"], label=\"below_mean\")\n",
    "plt.title(\"Suicide rates in countries above/below the mean no. mental health providers\")\n",
    "plt.legend()"
   ]
  },
  {
   "cell_type": "markdown",
   "metadata": {},
   "source": [
    "### T TEST: 2 independent samples"
   ]
  },
  {
   "cell_type": "code",
   "execution_count": 6,
   "metadata": {
    "ExecuteTime": {
     "end_time": "2019-06-06T13:40:09.743208Z",
     "start_time": "2019-06-06T13:40:08.922081Z"
    }
   },
   "outputs": [
    {
     "name": "stdout",
     "output_type": "stream",
     "text": [
      "With p=0.0, we can reject the Null Hypothesis. These populations are different.\n"
     ]
    },
    {
     "data": {
      "text/plain": [
       "Ttest_indResult(statistic=77.16334472768237, pvalue=0.0)"
      ]
     },
     "execution_count": 6,
     "metadata": {},
     "output_type": "execute_result"
    },
    {
     "data": {
      "image/png": "[encoded data removed]",
      "text/plain": [
       "<Figure size 432x288 with 1 Axes>"
      ]
     },
     "metadata": {
      "needs_background": "light"
     },
     "output_type": "display_data"
    }
   ],
   "source": [
    "# \"bootstrap_and_compare\" is a function that does the following:\n",
    "#     randomly selects values from one of our original samples to create bootstrapped samples\n",
    "#     gets the mean of each sample\n",
    "#     does the same for the second original sample\n",
    "#     does a Welch's t test\n",
    "#     states the p value and whether it's significant at alpha=0.5\n",
    "#     plots the means of the bootstrapped samples to show the sampling distributions\n",
    "\n",
    "samp1=df_suicide_rate_btsx_above[\"15-29  years\"]\n",
    "samp2=df_suicide_rate_btsx_below[\"15-29  years\"]\n",
    "bootstrap_and_compare(samp1, samp2, num_bootstraps=1000, size_bootstraps=500)"
   ]
  },
  {
   "cell_type": "code",
   "execution_count": 7,
   "metadata": {},
   "outputs": [
    {
     "name": "stdout",
     "output_type": "stream",
     "text": [
      "Effect size: 0.15328557489069433\n"
     ]
    }
   ],
   "source": [
    "effect_size = (mean(samp1) - mean(samp2)) / (sqrt((stdev(samp1) ** 2 + stdev(samp2) ** 2) / 2))\n",
    "\n",
    "print(\"Effect size:\", effect_size)"
   ]
  },
  {
   "cell_type": "markdown",
   "metadata": {},
   "source": [
    "# Do we get different results when we look at the outcomes for males only? "
   ]
  },
  {
   "cell_type": "markdown",
   "metadata": {},
   "source": [
    "### Alternative Hypothesis 2\n",
    "\n",
    "There is a difference in suicide rates for males in countries below and above the mean threshold of mental health providers per 100,000 for people ages 15-29\n",
    "\n",
    "H0: There is no difference"
   ]
  },
  {
   "cell_type": "code",
   "execution_count": 8,
   "metadata": {},
   "outputs": [
    {
     "name": "stdout",
     "output_type": "stream",
     "text": [
      "35\n",
      "114\n"
     ]
    },
    {
     "data": {
      "text/plain": [
       "<matplotlib.legend.Legend at 0x1c19ba77f0>"
      ]
     },
     "execution_count": 8,
     "metadata": {},
     "output_type": "execute_result"
    },
    {
     "data": {
      "image/png": "[encoded data removed]",
      "text/plain": [
       "<Figure size 432x288 with 1 Axes>"
      ]
     },
     "metadata": {
      "needs_background": "light"
     },
     "output_type": "display_data"
    }
   ],
   "source": [
    "# After looking at the distributions, we again decided to bootstrap samples and create a sampling distribution to compare the populations\n",
    "\n",
    "print(len(df_suicide_rate_male_above))\n",
    "print(len(df_suicide_rate_male_below))\n",
    "\n",
    "sns.distplot(df_suicide_rate_male_above[\"15-29  years\"], color='red', label=\"above mean\")\n",
    "sns.distplot(df_suicide_rate_male_below[\"15-29  years\"], label='below mean')\n",
    "plt.title(\"Suicide rates (males) in countries above/below the mean no. mental health providers\")\n",
    "plt.legend()"
   ]
  },
  {
   "cell_type": "markdown",
   "metadata": {},
   "source": [
    "### T TEST: 2 independent samples"
   ]
  },
  {
   "cell_type": "code",
   "execution_count": 9,
   "metadata": {
    "ExecuteTime": {
     "end_time": "2019-06-06T13:50:08.353023Z",
     "start_time": "2019-06-06T13:50:07.691656Z"
    }
   },
   "outputs": [
    {
     "name": "stdout",
     "output_type": "stream",
     "text": [
      "With p=0.0, we can reject the Null Hypothesis. These populations are different.\n"
     ]
    },
    {
     "data": {
      "text/plain": [
       "Ttest_indResult(statistic=143.3816255770687, pvalue=0.0)"
      ]
     },
     "execution_count": 9,
     "metadata": {},
     "output_type": "execute_result"
    },
    {
     "data": {
      "image/png": "[encoded data removed]",
      "text/plain": [
       "<Figure size 432x288 with 1 Axes>"
      ]
     },
     "metadata": {
      "needs_background": "light"
     },
     "output_type": "display_data"
    }
   ],
   "source": [
    "samp1=df_suicide_rate_male_above[\"15-29  years\"]\n",
    "samp2=df_suicide_rate_male_below[\"15-29  years\"]\n",
    "bootstrap_and_compare(samp1, samp2, num_bootstraps=1000, size_bootstraps=500)"
   ]
  },
  {
   "cell_type": "code",
   "execution_count": 10,
   "metadata": {},
   "outputs": [
    {
     "name": "stdout",
     "output_type": "stream",
     "text": [
      "Effect size: 0.28373686568030676\n"
     ]
    }
   ],
   "source": [
    "effect_size = (mean(samp1) - mean(samp2)) / (sqrt((stdev(samp1) ** 2 + stdev(samp2) ** 2) / 2))\n",
    "\n",
    "print(\"Effect size:\", effect_size)"
   ]
  },
  {
   "cell_type": "markdown",
   "metadata": {},
   "source": [
    "# Do we get different results when we look at the outcomes for females only?"
   ]
  },
  {
   "cell_type": "markdown",
   "metadata": {
    "ExecuteTime": {
     "end_time": "2019-06-05T18:07:19.404492Z",
     "start_time": "2019-06-05T18:07:19.397168Z"
    }
   },
   "source": [
    "### Alternative Hypothesis 3\n",
    "\n",
    "There is a difference in suicide rates for females in countries below and above the mean threshold of mental health professionals per 100,000 for people ages 15-29\n",
    "\n",
    "H0: There is no difference"
   ]
  },
  {
   "cell_type": "code",
   "execution_count": 11,
   "metadata": {
    "ExecuteTime": {
     "end_time": "2019-06-06T13:49:40.298143Z",
     "start_time": "2019-06-06T13:49:39.813437Z"
    }
   },
   "outputs": [
    {
     "data": {
      "text/plain": [
       "<matplotlib.legend.Legend at 0x1c19e51048>"
      ]
     },
     "execution_count": 11,
     "metadata": {},
     "output_type": "execute_result"
    },
    {
     "data": {
      "image/png": "[encoded data removed]",
      "text/plain": [
       "<Figure size 432x288 with 1 Axes>"
      ]
     },
     "metadata": {
      "needs_background": "light"
     },
     "output_type": "display_data"
    }
   ],
   "source": [
    "# Same here. We can't tell much from these distributions\n",
    "\n",
    "sns.distplot(df_suicide_rate_female_above[\"15-29  years\"], color='red', label=\"above mean\")\n",
    "sns.distplot(df_suicide_rate_female_below[\"15-29  years\"], label=\"below mean\")\n",
    "plt.title(\"Suicide rates (males) in countries above/below the mean no. mental health providers\")\n",
    "plt.legend()"
   ]
  },
  {
   "cell_type": "markdown",
   "metadata": {},
   "source": [
    "### T TEST: 2 independent samples"
   ]
  },
  {
   "cell_type": "code",
   "execution_count": 12,
   "metadata": {
    "ExecuteTime": {
     "end_time": "2019-06-06T13:49:42.139006Z",
     "start_time": "2019-06-06T13:49:41.313038Z"
    }
   },
   "outputs": [
    {
     "name": "stdout",
     "output_type": "stream",
     "text": [
      "With p=0.0, we can reject the Null Hypothesis. These populations are different.\n"
     ]
    },
    {
     "data": {
      "text/plain": [
       "Ttest_indResult(statistic=-133.78595297183446, pvalue=0.0)"
      ]
     },
     "execution_count": 12,
     "metadata": {},
     "output_type": "execute_result"
    },
    {
     "data": {
      "image/png": "[encoded data removed]",
      "text/plain": [
       "<Figure size 432x288 with 1 Axes>"
      ]
     },
     "metadata": {
      "needs_background": "light"
     },
     "output_type": "display_data"
    }
   ],
   "source": [
    "samp1=df_suicide_rate_female_above[\"15-29  years\"]\n",
    "samp2=df_suicide_rate_female_below[\"15-29  years\"]\n",
    "bootstrap_and_compare(samp1, samp2, num_bootstraps=1000, size_bootstraps=500)"
   ]
  },
  {
   "cell_type": "code",
   "execution_count": 13,
   "metadata": {},
   "outputs": [
    {
     "name": "stdout",
     "output_type": "stream",
     "text": [
      "Effect size: -0.26564335647727033\n"
     ]
    }
   ],
   "source": [
    "effect_size = (mean(samp1) - mean(samp2)) / (sqrt((stdev(samp1) ** 2 + stdev(samp2) ** 2) / 2))\n",
    "\n",
    "print(\"Effect size:\", effect_size)"
   ]
  },
  {
   "cell_type": "code",
   "execution_count": null,
   "metadata": {},
   "outputs": [],
   "source": []
  },
  {
   "cell_type": "code",
   "execution_count": null,
   "metadata": {},
   "outputs": [],
   "source": []
  },
  {
   "cell_type": "code",
   "execution_count": null,
   "metadata": {},
   "outputs": [],
   "source": []
  },
  {
   "cell_type": "code",
   "execution_count": null,
   "metadata": {},
   "outputs": [],
   "source": []
  },
  {
   "cell_type": "markdown",
   "metadata": {},
   "source": [
    "# ANOVA?"
   ]
  },
  {
   "cell_type": "code",
   "execution_count": 14,
   "metadata": {},
   "outputs": [],
   "source": [
    "# getting the quantiles of total_mh_personnel so we can break the populations up into groups\n",
    "\n",
    "df = pd.read_sql_query(\"\"\"SELECT\n",
    "                          Country,\n",
    "                          CAST([Psychologists working in mental health sector (per 100 000 population)] AS float) AS Psychologists,\n",
    "                          CAST([Nurses working in mental health sector (per 100 000 population)] AS float) AS Nurses,\n",
    "                          CAST([Social workers working in mental health sector (per 100 000 population)] AS float) AS Social_Workers,\n",
    "                          CAST([Psychiatrists working in mental health sector (per 100 000 population)] AS float) AS Psychiatrists,\n",
    "                          COALESCE([Psychologists working in mental health sector (per 100 000 population)], 9.705),\n",
    "                          COALESCE([Nurses working in mental health sector (per 100 000 population)], 12.664),\n",
    "                          COALESCE([Social workers working in mental health sector (per 100 000 population)], 3.364),\n",
    "                          COALESCE([Psychiatrists working in mental health sector (per 100 000 population)], 4.868),\n",
    "                          CAST([Psychiatrists working in mental health sector (per 100 000 population)] AS float)\n",
    "                          + CAST([Nurses working in mental health sector (per 100 000 population)] AS float)\n",
    "                          + CAST([Social workers working in mental health sector (per 100 000 population)] AS float)\n",
    "                          + CAST([Psychologists working in mental health sector (per 100 000 population)] AS float) as total_mh_personnel\n",
    "                          FROM human_resources ;\"\"\", con=conn)\n"
   ]
  },
  {
   "cell_type": "code",
   "execution_count": 15,
   "metadata": {},
   "outputs": [
    {
     "data": {
      "text/html": [
       "<div>\n",
       "<style scoped>\n",
       "    .dataframe tbody tr th:only-of-type {\n",
       "        vertical-align: middle;\n",
       "    }\n",
       "\n",
       "    .dataframe tbody tr th {\n",
       "        vertical-align: top;\n",
       "    }\n",
       "\n",
       "    .dataframe thead th {\n",
       "        text-align: right;\n",
       "    }\n",
       "</style>\n",
       "<table border=\"1\" class=\"dataframe\">\n",
       "  <thead>\n",
       "    <tr style=\"text-align: right;\">\n",
       "      <th></th>\n",
       "      <th>Psychologists</th>\n",
       "      <th>Nurses</th>\n",
       "      <th>Social_Workers</th>\n",
       "      <th>Psychiatrists</th>\n",
       "      <th>total_mh_personnel</th>\n",
       "    </tr>\n",
       "  </thead>\n",
       "  <tbody>\n",
       "    <tr>\n",
       "      <th>count</th>\n",
       "      <td>154.000000</td>\n",
       "      <td>154.000000</td>\n",
       "      <td>154.000000</td>\n",
       "      <td>154.000000</td>\n",
       "      <td>154.000000</td>\n",
       "    </tr>\n",
       "    <tr>\n",
       "      <th>mean</th>\n",
       "      <td>9.704578</td>\n",
       "      <td>12.663916</td>\n",
       "      <td>3.364045</td>\n",
       "      <td>4.868208</td>\n",
       "      <td>30.600747</td>\n",
       "    </tr>\n",
       "    <tr>\n",
       "      <th>std</th>\n",
       "      <td>29.045814</td>\n",
       "      <td>24.874641</td>\n",
       "      <td>16.266182</td>\n",
       "      <td>8.041757</td>\n",
       "      <td>55.832789</td>\n",
       "    </tr>\n",
       "    <tr>\n",
       "      <th>min</th>\n",
       "      <td>0.000000</td>\n",
       "      <td>0.000000</td>\n",
       "      <td>0.000000</td>\n",
       "      <td>0.000000</td>\n",
       "      <td>0.035000</td>\n",
       "    </tr>\n",
       "    <tr>\n",
       "      <th>25%</th>\n",
       "      <td>0.013000</td>\n",
       "      <td>0.219500</td>\n",
       "      <td>0.000000</td>\n",
       "      <td>0.130000</td>\n",
       "      <td>1.565750</td>\n",
       "    </tr>\n",
       "    <tr>\n",
       "      <th>50%</th>\n",
       "      <td>0.560000</td>\n",
       "      <td>2.593500</td>\n",
       "      <td>0.068000</td>\n",
       "      <td>1.239000</td>\n",
       "      <td>8.025500</td>\n",
       "    </tr>\n",
       "    <tr>\n",
       "      <th>75%</th>\n",
       "      <td>3.060250</td>\n",
       "      <td>10.563000</td>\n",
       "      <td>0.643000</td>\n",
       "      <td>5.934250</td>\n",
       "      <td>27.670750</td>\n",
       "    </tr>\n",
       "    <tr>\n",
       "      <th>max</th>\n",
       "      <td>222.572000</td>\n",
       "      <td>150.251000</td>\n",
       "      <td>145.400000</td>\n",
       "      <td>48.040000</td>\n",
       "      <td>277.478000</td>\n",
       "    </tr>\n",
       "  </tbody>\n",
       "</table>\n",
       "</div>"
      ],
      "text/plain": [
       "       Psychologists      Nurses  Social_Workers  Psychiatrists  \\\n",
       "count     154.000000  154.000000      154.000000     154.000000   \n",
       "mean        9.704578   12.663916        3.364045       4.868208   \n",
       "std        29.045814   24.874641       16.266182       8.041757   \n",
       "min         0.000000    0.000000        0.000000       0.000000   \n",
       "25%         0.013000    0.219500        0.000000       0.130000   \n",
       "50%         0.560000    2.593500        0.068000       1.239000   \n",
       "75%         3.060250   10.563000        0.643000       5.934250   \n",
       "max       222.572000  150.251000      145.400000      48.040000   \n",
       "\n",
       "       total_mh_personnel  \n",
       "count          154.000000  \n",
       "mean            30.600747  \n",
       "std             55.832789  \n",
       "min              0.035000  \n",
       "25%              1.565750  \n",
       "50%              8.025500  \n",
       "75%             27.670750  \n",
       "max            277.478000  "
      ]
     },
     "execution_count": 15,
     "metadata": {},
     "output_type": "execute_result"
    }
   ],
   "source": [
    "df.describe()"
   ]
  },
  {
   "cell_type": "code",
   "execution_count": 16,
   "metadata": {},
   "outputs": [],
   "source": [
    "# making a dataframe with a resources_quantile column\n",
    "\n",
    "df = pd.read_sql_query(\"\"\"SELECT Country, [15-29  years] as suicide_rate_per_100_000,\n",
    "                            CASE \n",
    "                              WHEN total_mh_personnel <= 1.57\n",
    "                                  THEN 0\n",
    "                              WHEN (total_mh_personnel > 1.57) AND (total_mh_personnel <= 8.03)\n",
    "                                  THEN 1\n",
    "                              WHEN (total_mh_personnel > 8.03) AND (total_mh_personnel <= 27.67)\n",
    "                                  THEN 2\n",
    "                              ELSE 3\n",
    "                            END AS resources_quantile\n",
    "                          FROM (SELECT Country,\n",
    "                               CAST([Psychologists working in mental health sector (per 100 000 population)] AS float) AS Psychologists,\n",
    "                               CAST([Nurses working in mental health sector (per 100 000 population)] AS float) AS Nurses,\n",
    "                               CAST([Social workers working in mental health sector (per 100 000 population)] AS float) AS Social_Workers,\n",
    "                               CAST([Psychiatrists working in mental health sector (per 100 000 population)] AS float) AS Psychiatrists,\n",
    "                               COALESCE([Psychologists working in mental health sector (per 100 000 population)], 9.705),\n",
    "                               COALESCE([Nurses working in mental health sector (per 100 000 population)], 12.664),\n",
    "                               COALESCE([Social workers working in mental health sector (per 100 000 population)], 3.364),\n",
    "                               COALESCE([Psychiatrists working in mental health sector (per 100 000 population)], 4.868),\n",
    "                               CAST([Psychiatrists working in mental health sector (per 100 000 population)] AS float)\n",
    "                               + CAST([Nurses working in mental health sector (per 100 000 population)] AS float)\n",
    "                               + CAST([Social workers working in mental health sector (per 100 000 population)] AS float)\n",
    "                               + CAST([Psychologists working in mental health sector (per 100 000 population)] AS float) as total_mh_personnel\n",
    "                               FROM human_resources) \n",
    "                            LEFT JOIN suicide_rate\n",
    "                            USING(Country)\n",
    "                            WHERE Sex = \"Both sexes\";\"\"\", con=conn)\n",
    "\n",
    "                          "
   ]
  },
  {
   "cell_type": "code",
   "execution_count": 17,
   "metadata": {},
   "outputs": [
    {
     "data": {
      "text/html": [
       "<div>\n",
       "<style scoped>\n",
       "    .dataframe tbody tr th:only-of-type {\n",
       "        vertical-align: middle;\n",
       "    }\n",
       "\n",
       "    .dataframe tbody tr th {\n",
       "        vertical-align: top;\n",
       "    }\n",
       "\n",
       "    .dataframe thead th {\n",
       "        text-align: right;\n",
       "    }\n",
       "</style>\n",
       "<table border=\"1\" class=\"dataframe\">\n",
       "  <thead>\n",
       "    <tr style=\"text-align: right;\">\n",
       "      <th></th>\n",
       "      <th>Country</th>\n",
       "      <th>suicide_rate_per_100_000</th>\n",
       "      <th>resources_quantile</th>\n",
       "    </tr>\n",
       "  </thead>\n",
       "  <tbody>\n",
       "    <tr>\n",
       "      <th>3</th>\n",
       "      <td>Antigua and Barbuda</td>\n",
       "      <td>0</td>\n",
       "      <td>2</td>\n",
       "    </tr>\n",
       "    <tr>\n",
       "      <th>5</th>\n",
       "      <td>Armenia</td>\n",
       "      <td>4.3</td>\n",
       "      <td>2</td>\n",
       "    </tr>\n",
       "    <tr>\n",
       "      <th>6</th>\n",
       "      <td>Australia</td>\n",
       "      <td>12.7</td>\n",
       "      <td>3</td>\n",
       "    </tr>\n",
       "    <tr>\n",
       "      <th>7</th>\n",
       "      <td>Azerbaijan</td>\n",
       "      <td>2.2</td>\n",
       "      <td>2</td>\n",
       "    </tr>\n",
       "    <tr>\n",
       "      <th>8</th>\n",
       "      <td>Bahrain</td>\n",
       "      <td>8.1</td>\n",
       "      <td>3</td>\n",
       "    </tr>\n",
       "    <tr>\n",
       "      <th>10</th>\n",
       "      <td>Barbados</td>\n",
       "      <td>0</td>\n",
       "      <td>3</td>\n",
       "    </tr>\n",
       "    <tr>\n",
       "      <th>11</th>\n",
       "      <td>Belarus</td>\n",
       "      <td>16.2</td>\n",
       "      <td>2</td>\n",
       "    </tr>\n",
       "    <tr>\n",
       "      <th>12</th>\n",
       "      <td>Belgium</td>\n",
       "      <td>11.2</td>\n",
       "      <td>3</td>\n",
       "    </tr>\n",
       "    <tr>\n",
       "      <th>13</th>\n",
       "      <td>Belize</td>\n",
       "      <td>5.2</td>\n",
       "      <td>1</td>\n",
       "    </tr>\n",
       "    <tr>\n",
       "      <th>14</th>\n",
       "      <td>Bhutan</td>\n",
       "      <td>11.7</td>\n",
       "      <td>0</td>\n",
       "    </tr>\n",
       "  </tbody>\n",
       "</table>\n",
       "</div>"
      ],
      "text/plain": [
       "                Country suicide_rate_per_100_000  resources_quantile\n",
       "3   Antigua and Barbuda                        0                   2\n",
       "5               Armenia                      4.3                   2\n",
       "6             Australia                     12.7                   3\n",
       "7            Azerbaijan                      2.2                   2\n",
       "8               Bahrain                      8.1                   3\n",
       "10             Barbados                        0                   3\n",
       "11              Belarus                     16.2                   2\n",
       "12              Belgium                     11.2                   3\n",
       "13               Belize                      5.2                   1\n",
       "14               Bhutan                     11.7                   0"
      ]
     },
     "execution_count": 17,
     "metadata": {},
     "output_type": "execute_result"
    }
   ],
   "source": [
    "df = df.drop([0,1,2,4,9], axis=0)\n",
    "df.head(10)"
   ]
  },
  {
   "cell_type": "code",
   "execution_count": 18,
   "metadata": {},
   "outputs": [
    {
     "data": {
      "text/plain": [
       "3    36\n",
       "2    36\n",
       "1    36\n",
       "0    36\n",
       "Name: resources_quantile, dtype: int64"
      ]
     },
     "execution_count": 18,
     "metadata": {},
     "output_type": "execute_result"
    },
    {
     "data": {
      "image/png": "[encoded data removed]",
      "text/plain": [
       "<Figure size 432x288 with 1 Axes>"
      ]
     },
     "metadata": {
      "needs_background": "light"
     },
     "output_type": "display_data"
    }
   ],
   "source": [
    "df.resources_quantile.hist()\n",
    "df.resources_quantile.value_counts()"
   ]
  },
  {
   "cell_type": "code",
   "execution_count": 19,
   "metadata": {},
   "outputs": [],
   "source": [
    "# making a df with yes/no for stand alone mental health law\n",
    "\n",
    "gov = pd.read_csv(\"/Users/flatironschool/Desktop/Kelly/mental_health_governance.csv\")\n",
    "gov = gov[['Country', 'Stand-alone law for mental health']]\n",
    "gov.set_index('Country', inplace=True)\n",
    "df.set_index('Country', inplace=True)"
   ]
  },
  {
   "cell_type": "code",
   "execution_count": 20,
   "metadata": {},
   "outputs": [],
   "source": [
    "df = df.join(gov, how='inner', on='Country')"
   ]
  },
  {
   "cell_type": "code",
   "execution_count": 21,
   "metadata": {},
   "outputs": [],
   "source": [
    "df['Stand-alone law for mental health'].where(df['Stand-alone law for mental health']!='Yes', 1, inplace=True)\n",
    "df['Stand-alone law for mental health'].where(df['Stand-alone law for mental health']!='No', 0, inplace=True)"
   ]
  },
  {
   "cell_type": "code",
   "execution_count": 22,
   "metadata": {},
   "outputs": [
    {
     "data": {
      "text/html": [
       "<div>\n",
       "<style scoped>\n",
       "    .dataframe tbody tr th:only-of-type {\n",
       "        vertical-align: middle;\n",
       "    }\n",
       "\n",
       "    .dataframe tbody tr th {\n",
       "        vertical-align: top;\n",
       "    }\n",
       "\n",
       "    .dataframe thead th {\n",
       "        text-align: right;\n",
       "    }\n",
       "</style>\n",
       "<table border=\"1\" class=\"dataframe\">\n",
       "  <thead>\n",
       "    <tr style=\"text-align: right;\">\n",
       "      <th></th>\n",
       "      <th>suicide_rate_per_100_000</th>\n",
       "      <th>resources_quantile</th>\n",
       "      <th>Stand-alone law for mental health</th>\n",
       "    </tr>\n",
       "    <tr>\n",
       "      <th>Country</th>\n",
       "      <th></th>\n",
       "      <th></th>\n",
       "      <th></th>\n",
       "    </tr>\n",
       "  </thead>\n",
       "  <tbody>\n",
       "    <tr>\n",
       "      <th>Antigua and Barbuda</th>\n",
       "      <td>0</td>\n",
       "      <td>2</td>\n",
       "      <td>1</td>\n",
       "    </tr>\n",
       "    <tr>\n",
       "      <th>Armenia</th>\n",
       "      <td>4.3</td>\n",
       "      <td>2</td>\n",
       "      <td>1</td>\n",
       "    </tr>\n",
       "    <tr>\n",
       "      <th>Armenia</th>\n",
       "      <td>4.3</td>\n",
       "      <td>2</td>\n",
       "      <td>1</td>\n",
       "    </tr>\n",
       "    <tr>\n",
       "      <th>Australia</th>\n",
       "      <td>12.7</td>\n",
       "      <td>3</td>\n",
       "      <td>1</td>\n",
       "    </tr>\n",
       "    <tr>\n",
       "      <th>Australia</th>\n",
       "      <td>12.7</td>\n",
       "      <td>3</td>\n",
       "      <td>1</td>\n",
       "    </tr>\n",
       "  </tbody>\n",
       "</table>\n",
       "</div>"
      ],
      "text/plain": [
       "                    suicide_rate_per_100_000  resources_quantile  \\\n",
       "Country                                                            \n",
       "Antigua and Barbuda                        0                   2   \n",
       "Armenia                                  4.3                   2   \n",
       "Armenia                                  4.3                   2   \n",
       "Australia                               12.7                   3   \n",
       "Australia                               12.7                   3   \n",
       "\n",
       "                    Stand-alone law for mental health  \n",
       "Country                                                \n",
       "Antigua and Barbuda                                 1  \n",
       "Armenia                                             1  \n",
       "Armenia                                             1  \n",
       "Australia                                           1  \n",
       "Australia                                           1  "
      ]
     },
     "execution_count": 22,
     "metadata": {},
     "output_type": "execute_result"
    }
   ],
   "source": [
    "df.head()"
   ]
  },
  {
   "cell_type": "code",
   "execution_count": 23,
   "metadata": {},
   "outputs": [
    {
     "name": "stderr",
     "output_type": "stream",
     "text": [
      "/anaconda3/lib/python3.7/site-packages/numpy/core/fromnumeric.py:2389: FutureWarning: Method .ptp is deprecated and will be removed in a future version. Use numpy.ptp instead.\n",
      "  return ptp(axis=axis, out=out, **kwargs)\n"
     ]
    },
    {
     "ename": "PatsyError",
     "evalue": "Number of rows mismatch between data argument and S (277 versus 1)\n    S ~ C(F1)\n    ^",
     "output_type": "error",
     "traceback": [
      "\u001b[0;31m---------------------------------------------------------------------------\u001b[0m",
      "\u001b[0;31mPatsyError\u001b[0m                                Traceback (most recent call last)",
      "\u001b[0;32m<ipython-input-23-dbedc0617763>\u001b[0m in \u001b[0;36m<module>\u001b[0;34m\u001b[0m\n\u001b[1;32m      8\u001b[0m \u001b[0;34m\u001b[0m\u001b[0m\n\u001b[1;32m      9\u001b[0m \u001b[0msm\u001b[0m\u001b[0;34m.\u001b[0m\u001b[0mtools\u001b[0m\u001b[0;34m.\u001b[0m\u001b[0mtools\u001b[0m\u001b[0;34m.\u001b[0m\u001b[0madd_constant\u001b[0m\u001b[0;34m(\u001b[0m\u001b[0mdata\u001b[0m\u001b[0;34m)\u001b[0m\u001b[0;34m\u001b[0m\u001b[0;34m\u001b[0m\u001b[0m\n\u001b[0;32m---> 10\u001b[0;31m \u001b[0mlm\u001b[0m \u001b[0;34m=\u001b[0m \u001b[0mols\u001b[0m\u001b[0;34m(\u001b[0m\u001b[0mformula\u001b[0m\u001b[0;34m,\u001b[0m \u001b[0mdata\u001b[0m\u001b[0;34m)\u001b[0m\u001b[0;34m.\u001b[0m\u001b[0mfit\u001b[0m\u001b[0;34m(\u001b[0m\u001b[0;34m)\u001b[0m\u001b[0;34m\u001b[0m\u001b[0;34m\u001b[0m\u001b[0m\n\u001b[0m\u001b[1;32m     11\u001b[0m \u001b[0mtable\u001b[0m \u001b[0;34m=\u001b[0m \u001b[0msm\u001b[0m\u001b[0;34m.\u001b[0m\u001b[0mstats\u001b[0m\u001b[0;34m.\u001b[0m\u001b[0manova_lm\u001b[0m\u001b[0;34m(\u001b[0m\u001b[0mlm\u001b[0m\u001b[0;34m,\u001b[0m \u001b[0mtyp\u001b[0m\u001b[0;34m=\u001b[0m\u001b[0;36m2\u001b[0m\u001b[0;34m)\u001b[0m\u001b[0;34m\u001b[0m\u001b[0;34m\u001b[0m\u001b[0m\n\u001b[1;32m     12\u001b[0m \u001b[0mprint\u001b[0m\u001b[0;34m(\u001b[0m\u001b[0mtable\u001b[0m\u001b[0;34m)\u001b[0m\u001b[0;34m\u001b[0m\u001b[0;34m\u001b[0m\u001b[0m\n",
      "\u001b[0;32m/anaconda3/lib/python3.7/site-packages/statsmodels/base/model.py\u001b[0m in \u001b[0;36mfrom_formula\u001b[0;34m(cls, formula, data, subset, drop_cols, *args, **kwargs)\u001b[0m\n\u001b[1;32m    153\u001b[0m \u001b[0;34m\u001b[0m\u001b[0m\n\u001b[1;32m    154\u001b[0m         tmp = handle_formula_data(data, None, formula, depth=eval_env,\n\u001b[0;32m--> 155\u001b[0;31m                                   missing=missing)\n\u001b[0m\u001b[1;32m    156\u001b[0m         \u001b[0;34m(\u001b[0m\u001b[0;34m(\u001b[0m\u001b[0mendog\u001b[0m\u001b[0;34m,\u001b[0m \u001b[0mexog\u001b[0m\u001b[0;34m)\u001b[0m\u001b[0;34m,\u001b[0m \u001b[0mmissing_idx\u001b[0m\u001b[0;34m,\u001b[0m \u001b[0mdesign_info\u001b[0m\u001b[0;34m)\u001b[0m \u001b[0;34m=\u001b[0m \u001b[0mtmp\u001b[0m\u001b[0;34m\u001b[0m\u001b[0;34m\u001b[0m\u001b[0m\n\u001b[1;32m    157\u001b[0m \u001b[0;34m\u001b[0m\u001b[0m\n",
      "\u001b[0;32m/anaconda3/lib/python3.7/site-packages/statsmodels/formula/formulatools.py\u001b[0m in \u001b[0;36mhandle_formula_data\u001b[0;34m(Y, X, formula, depth, missing)\u001b[0m\n\u001b[1;32m     63\u001b[0m         \u001b[0;32mif\u001b[0m \u001b[0mdata_util\u001b[0m\u001b[0;34m.\u001b[0m\u001b[0m_is_using_pandas\u001b[0m\u001b[0;34m(\u001b[0m\u001b[0mY\u001b[0m\u001b[0;34m,\u001b[0m \u001b[0;32mNone\u001b[0m\u001b[0;34m)\u001b[0m\u001b[0;34m:\u001b[0m\u001b[0;34m\u001b[0m\u001b[0;34m\u001b[0m\u001b[0m\n\u001b[1;32m     64\u001b[0m             result = dmatrices(formula, Y, depth, return_type='dataframe',\n\u001b[0;32m---> 65\u001b[0;31m                                NA_action=na_action)\n\u001b[0m\u001b[1;32m     66\u001b[0m         \u001b[0;32melse\u001b[0m\u001b[0;34m:\u001b[0m\u001b[0;34m\u001b[0m\u001b[0;34m\u001b[0m\u001b[0m\n\u001b[1;32m     67\u001b[0m             result = dmatrices(formula, Y, depth, return_type='dataframe',\n",
      "\u001b[0;32m/anaconda3/lib/python3.7/site-packages/patsy/highlevel.py\u001b[0m in \u001b[0;36mdmatrices\u001b[0;34m(formula_like, data, eval_env, NA_action, return_type)\u001b[0m\n\u001b[1;32m    308\u001b[0m     \u001b[0meval_env\u001b[0m \u001b[0;34m=\u001b[0m \u001b[0mEvalEnvironment\u001b[0m\u001b[0;34m.\u001b[0m\u001b[0mcapture\u001b[0m\u001b[0;34m(\u001b[0m\u001b[0meval_env\u001b[0m\u001b[0;34m,\u001b[0m \u001b[0mreference\u001b[0m\u001b[0;34m=\u001b[0m\u001b[0;36m1\u001b[0m\u001b[0;34m)\u001b[0m\u001b[0;34m\u001b[0m\u001b[0;34m\u001b[0m\u001b[0m\n\u001b[1;32m    309\u001b[0m     (lhs, rhs) = _do_highlevel_design(formula_like, data, eval_env,\n\u001b[0;32m--> 310\u001b[0;31m                                       NA_action, return_type)\n\u001b[0m\u001b[1;32m    311\u001b[0m     \u001b[0;32mif\u001b[0m \u001b[0mlhs\u001b[0m\u001b[0;34m.\u001b[0m\u001b[0mshape\u001b[0m\u001b[0;34m[\u001b[0m\u001b[0;36m1\u001b[0m\u001b[0;34m]\u001b[0m \u001b[0;34m==\u001b[0m \u001b[0;36m0\u001b[0m\u001b[0;34m:\u001b[0m\u001b[0;34m\u001b[0m\u001b[0;34m\u001b[0m\u001b[0m\n\u001b[1;32m    312\u001b[0m         \u001b[0;32mraise\u001b[0m \u001b[0mPatsyError\u001b[0m\u001b[0;34m(\u001b[0m\u001b[0;34m\"model is missing required outcome variables\"\u001b[0m\u001b[0;34m)\u001b[0m\u001b[0;34m\u001b[0m\u001b[0;34m\u001b[0m\u001b[0m\n",
      "\u001b[0;32m/anaconda3/lib/python3.7/site-packages/patsy/highlevel.py\u001b[0m in \u001b[0;36m_do_highlevel_design\u001b[0;34m(formula_like, data, eval_env, NA_action, return_type)\u001b[0m\n\u001b[1;32m    167\u001b[0m         return build_design_matrices(design_infos, data,\n\u001b[1;32m    168\u001b[0m                                      \u001b[0mNA_action\u001b[0m\u001b[0;34m=\u001b[0m\u001b[0mNA_action\u001b[0m\u001b[0;34m,\u001b[0m\u001b[0;34m\u001b[0m\u001b[0;34m\u001b[0m\u001b[0m\n\u001b[0;32m--> 169\u001b[0;31m                                      return_type=return_type)\n\u001b[0m\u001b[1;32m    170\u001b[0m     \u001b[0;32melse\u001b[0m\u001b[0;34m:\u001b[0m\u001b[0;34m\u001b[0m\u001b[0;34m\u001b[0m\u001b[0m\n\u001b[1;32m    171\u001b[0m         \u001b[0;31m# No builders, but maybe we can still get matrices\u001b[0m\u001b[0;34m\u001b[0m\u001b[0;34m\u001b[0m\u001b[0;34m\u001b[0m\u001b[0m\n",
      "\u001b[0;32m/anaconda3/lib/python3.7/site-packages/patsy/build.py\u001b[0m in \u001b[0;36mbuild_design_matrices\u001b[0;34m(design_infos, data, NA_action, return_type, dtype)\u001b[0m\n\u001b[1;32m    891\u001b[0m                 \u001b[0mname\u001b[0m \u001b[0;34m=\u001b[0m \u001b[0mfactor_info\u001b[0m\u001b[0;34m.\u001b[0m\u001b[0mfactor\u001b[0m\u001b[0;34m.\u001b[0m\u001b[0mname\u001b[0m\u001b[0;34m(\u001b[0m\u001b[0;34m)\u001b[0m\u001b[0;34m\u001b[0m\u001b[0;34m\u001b[0m\u001b[0m\n\u001b[1;32m    892\u001b[0m                 \u001b[0morigin\u001b[0m \u001b[0;34m=\u001b[0m \u001b[0mfactor_info\u001b[0m\u001b[0;34m.\u001b[0m\u001b[0mfactor\u001b[0m\u001b[0;34m.\u001b[0m\u001b[0morigin\u001b[0m\u001b[0;34m\u001b[0m\u001b[0;34m\u001b[0m\u001b[0m\n\u001b[0;32m--> 893\u001b[0;31m                 \u001b[0mrows_checker\u001b[0m\u001b[0;34m.\u001b[0m\u001b[0mcheck\u001b[0m\u001b[0;34m(\u001b[0m\u001b[0mvalue\u001b[0m\u001b[0;34m.\u001b[0m\u001b[0mshape\u001b[0m\u001b[0;34m[\u001b[0m\u001b[0;36m0\u001b[0m\u001b[0;34m]\u001b[0m\u001b[0;34m,\u001b[0m \u001b[0mname\u001b[0m\u001b[0;34m,\u001b[0m \u001b[0morigin\u001b[0m\u001b[0;34m)\u001b[0m\u001b[0;34m\u001b[0m\u001b[0;34m\u001b[0m\u001b[0m\n\u001b[0m\u001b[1;32m    894\u001b[0m                 if (have_pandas\n\u001b[1;32m    895\u001b[0m                     and isinstance(value, (pandas.Series, pandas.DataFrame))):\n",
      "\u001b[0;32m/anaconda3/lib/python3.7/site-packages/patsy/build.py\u001b[0m in \u001b[0;36mcheck\u001b[0;34m(self, seen_value, desc, origin)\u001b[0m\n\u001b[1;32m    793\u001b[0m                 \u001b[0;31m# XX FIXME: this is a case where having discontiguous Origins\u001b[0m\u001b[0;34m\u001b[0m\u001b[0;34m\u001b[0m\u001b[0;34m\u001b[0m\u001b[0m\n\u001b[1;32m    794\u001b[0m                 \u001b[0;31m# would be useful...\u001b[0m\u001b[0;34m\u001b[0m\u001b[0;34m\u001b[0m\u001b[0;34m\u001b[0m\u001b[0m\n\u001b[0;32m--> 795\u001b[0;31m                 \u001b[0;32mraise\u001b[0m \u001b[0mPatsyError\u001b[0m\u001b[0;34m(\u001b[0m\u001b[0mmsg\u001b[0m\u001b[0;34m,\u001b[0m \u001b[0morigin\u001b[0m\u001b[0;34m)\u001b[0m\u001b[0;34m\u001b[0m\u001b[0;34m\u001b[0m\u001b[0m\n\u001b[0m\u001b[1;32m    796\u001b[0m \u001b[0;34m\u001b[0m\u001b[0m\n\u001b[1;32m    797\u001b[0m def build_design_matrices(design_infos, data,\n",
      "\u001b[0;31mPatsyError\u001b[0m: Number of rows mismatch between data argument and S (277 versus 1)\n    S ~ C(F1)\n    ^"
     ]
    }
   ],
   "source": [
    "\n",
    "S = 'suicide_rate_per_100_000'\n",
    "F1 = 'resources_quantile'\n",
    "F2 = 'Stand-alone law for mental health'\n",
    "data = df\n",
    "\n",
    "formula = 'S ~ C(F1)'\n",
    "\n",
    "sm.tools.tools.add_constant(data)\n",
    "lm = ols(formula, data).fit()\n",
    "table = sm.stats.anova_lm(lm, typ=2)\n",
    "print(table)"
   ]
  },
  {
   "cell_type": "code",
   "execution_count": null,
   "metadata": {},
   "outputs": [],
   "source": []
  },
  {
   "cell_type": "code",
   "execution_count": null,
   "metadata": {},
   "outputs": [],
   "source": []
  },
  {
   "cell_type": "code",
   "execution_count": null,
   "metadata": {},
   "outputs": [],
   "source": []
  },
  {
   "cell_type": "code",
   "execution_count": null,
   "metadata": {},
   "outputs": [],
   "source": []
  }
 ],
 "metadata": {
  "kernelspec": {
   "display_name": "Python 3",
   "language": "python",
   "name": "python3"
  },
  "language_info": {
   "codemirror_mode": {
    "name": "ipython",
    "version": 3
   },
   "file_extension": ".py",
   "mimetype": "text/x-python",
   "name": "python",
   "nbconvert_exporter": "python",
   "pygments_lexer": "ipython3",
   "version": "3.7.3"
  },
  "toc": {
   "base_numbering": 1,
   "nav_menu": {},
   "number_sections": true,
   "sideBar": true,
   "skip_h1_title": false,
   "title_cell": "Table of Contents",
   "title_sidebar": "Contents",
   "toc_cell": false,
   "toc_position": {},
   "toc_section_display": true,
   "toc_window_display": false
  },
  "varInspector": {
   "cols": {
    "lenName": 16,
    "lenType": 16,
    "lenVar": 40
   },
   "kernels_config": {
    "python": {
     "delete_cmd_postfix": "",
     "delete_cmd_prefix": "del ",
     "library": "var_list.py",
     "varRefreshCmd": "print(var_dic_list())"
    },
    "r": {
     "delete_cmd_postfix": ") ",
     "delete_cmd_prefix": "rm(",
     "library": "var_list.r",
     "varRefreshCmd": "cat(var_dic_list()) "
    }
   },
   "types_to_exclude": [
    "module",
    "function",
    "builtin_function_or_method",
    "instance",
    "_Feature"
   ],
   "window_display": false
  }
 },
 "nbformat": 4,
 "nbformat_minor": 2
}
